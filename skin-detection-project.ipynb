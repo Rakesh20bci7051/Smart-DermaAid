{
 "cells": [
  {
   "cell_type": "code",
   "execution_count": 1,
   "id": "f59775af",
   "metadata": {
    "_cell_guid": "b1076dfc-b9ad-4769-8c92-a6c4dae69d19",
    "_uuid": "8f2839f25d086af736a60e9eeb907d3b93b6e0e5",
    "execution": {
     "iopub.execute_input": "2023-04-16T17:24:35.699260Z",
     "iopub.status.busy": "2023-04-16T17:24:35.698865Z",
     "iopub.status.idle": "2023-04-16T17:24:35.710128Z",
     "shell.execute_reply": "2023-04-16T17:24:35.709205Z"
    },
    "papermill": {
     "duration": 0.028047,
     "end_time": "2023-04-16T17:24:35.712238",
     "exception": false,
     "start_time": "2023-04-16T17:24:35.684191",
     "status": "completed"
    },
    "tags": []
   },
   "outputs": [],
   "source": [
    "# This Python 3 environment comes with many helpful analytics libraries installed\n",
    "# It is defined by the kaggle/python Docker image: https://github.com/kaggle/docker-python\n",
    "# For example, here's several helpful packages to load\n",
    "\n",
    "import numpy as np # linear algebra\n",
    "import pandas as pd # data processing, CSV file I/O (e.g. pd.read_csv)\n",
    "# Input data files are available in the read-only \"../input/\" directory\n",
    "# For example, running this (by clicking run or pressing Shift+Enter) will list all files under the input directory\n",
    "import os\n",
    "# for dirname, _, filenames in os.walk('/kaggle/input'):\n",
    "#     for filename in filenames:\n",
    "#         print(os.path.join(dirname, filename))\n",
    "\n",
    "# You can write up to 20GB to the current directory (/kaggle/working/) that gets preserved as output when you create a version using \"Save & Run All\" \n",
    "# You can also write temporary files to /kaggle/temp/, but they won't be saved outside of the current session"
   ]
  },
  {
   "cell_type": "code",
   "execution_count": 2,
   "id": "8d142eb6",
   "metadata": {
    "execution": {
     "iopub.execute_input": "2023-04-16T17:24:35.736929Z",
     "iopub.status.busy": "2023-04-16T17:24:35.736038Z",
     "iopub.status.idle": "2023-04-16T17:24:45.434914Z",
     "shell.execute_reply": "2023-04-16T17:24:45.433828Z"
    },
    "papermill": {
     "duration": 9.713828,
     "end_time": "2023-04-16T17:24:45.437577",
     "exception": false,
     "start_time": "2023-04-16T17:24:35.723749",
     "status": "completed"
    },
    "tags": []
   },
   "outputs": [],
   "source": [
    "import matplotlib.pyplot as plt\n",
    "import tensorflow as tf\n",
    "import seaborn as sns\n",
    "import random\n",
    "from PIL import Image\n",
    "from tensorflow.keras.preprocessing import image\n",
    "from tensorflow.keras.applications.inception_v3 import InceptionV3\n",
    "from tensorflow.keras import Sequential, Model\n",
    "from keras.layers import (Conv2D, MaxPooling2D, Dense, Flatten, \\\n",
    "                          Dropout, Input,GlobalAveragePooling2D,BatchNormalization)\n",
    "from tensorflow.keras.activations import softmax\n",
    "from tensorflow.keras.optimizers import Adam\n",
    "from keras.preprocessing.image import ImageDataGenerator\n",
    "from mpl_toolkits.axes_grid1 import ImageGrid\n",
    "from keras.models import Model\n",
    "from keras.applications.vgg16 import VGG16, preprocess_input\n",
    "from keras.callbacks import ModelCheckpoint, EarlyStopping\n",
    "from sklearn.metrics import (ConfusionMatrixDisplay, confusion_matrix, \n",
    "                             accuracy_score)\n",
    "import cv2"
   ]
  },
  {
   "cell_type": "code",
   "execution_count": 3,
   "id": "c399849a",
   "metadata": {
    "execution": {
     "iopub.execute_input": "2023-04-16T17:24:45.463438Z",
     "iopub.status.busy": "2023-04-16T17:24:45.462862Z",
     "iopub.status.idle": "2023-04-16T17:24:45.479975Z",
     "shell.execute_reply": "2023-04-16T17:24:45.479082Z"
    },
    "papermill": {
     "duration": 0.032112,
     "end_time": "2023-04-16T17:24:45.482040",
     "exception": false,
     "start_time": "2023-04-16T17:24:45.449928",
     "status": "completed"
    },
    "tags": []
   },
   "outputs": [],
   "source": [
    "train2=os.listdir(\"/kaggle/input/dermnet/train\")"
   ]
  },
  {
   "cell_type": "code",
   "execution_count": 4,
   "id": "d4f4a40e",
   "metadata": {
    "execution": {
     "iopub.execute_input": "2023-04-16T17:24:45.508065Z",
     "iopub.status.busy": "2023-04-16T17:24:45.507323Z",
     "iopub.status.idle": "2023-04-16T17:24:45.514491Z",
     "shell.execute_reply": "2023-04-16T17:24:45.513504Z"
    },
    "papermill": {
     "duration": 0.02252,
     "end_time": "2023-04-16T17:24:45.517163",
     "exception": false,
     "start_time": "2023-04-16T17:24:45.494643",
     "status": "completed"
    },
    "tags": []
   },
   "outputs": [
    {
     "data": {
      "text/plain": [
       "['Light Diseases and Disorders of Pigmentation',\n",
       " 'Lupus and other Connective Tissue diseases',\n",
       " 'Acne and Rosacea Photos',\n",
       " 'Systemic Disease',\n",
       " 'Poison Ivy Photos and other Contact Dermatitis',\n",
       " 'Vascular Tumors',\n",
       " 'Urticaria Hives',\n",
       " 'Atopic Dermatitis Photos',\n",
       " 'Bullous Disease Photos',\n",
       " 'Hair Loss Photos Alopecia and other Hair Diseases',\n",
       " 'Tinea Ringworm Candidiasis and other Fungal Infections',\n",
       " 'Psoriasis pictures Lichen Planus and related diseases',\n",
       " 'Melanoma Skin Cancer Nevi and Moles',\n",
       " 'Nail Fungus and other Nail Disease',\n",
       " 'Scabies Lyme Disease and other Infestations and Bites',\n",
       " 'Eczema Photos',\n",
       " 'Exanthems and Drug Eruptions',\n",
       " 'Herpes HPV and other STDs Photos',\n",
       " 'Seborrheic Keratoses and other Benign Tumors',\n",
       " 'Actinic Keratosis Basal Cell Carcinoma and other Malignant Lesions',\n",
       " 'Vasculitis Photos',\n",
       " 'Cellulitis Impetigo and other Bacterial Infections',\n",
       " 'Warts Molluscum and other Viral Infections']"
      ]
     },
     "execution_count": 4,
     "metadata": {},
     "output_type": "execute_result"
    }
   ],
   "source": [
    "train2"
   ]
  },
  {
   "cell_type": "code",
   "execution_count": 5,
   "id": "76f2ae4e",
   "metadata": {
    "execution": {
     "iopub.execute_input": "2023-04-16T17:24:45.543510Z",
     "iopub.status.busy": "2023-04-16T17:24:45.542064Z",
     "iopub.status.idle": "2023-04-16T17:24:45.547020Z",
     "shell.execute_reply": "2023-04-16T17:24:45.546075Z"
    },
    "papermill": {
     "duration": 0.019902,
     "end_time": "2023-04-16T17:24:45.549035",
     "exception": false,
     "start_time": "2023-04-16T17:24:45.529133",
     "status": "completed"
    },
    "tags": []
   },
   "outputs": [],
   "source": [
    "cat2=['Melanoma Skin Cancer Nevi and Moles']"
   ]
  },
  {
   "cell_type": "code",
   "execution_count": 6,
   "id": "53a833ab",
   "metadata": {
    "execution": {
     "iopub.execute_input": "2023-04-16T17:24:45.574019Z",
     "iopub.status.busy": "2023-04-16T17:24:45.573045Z",
     "iopub.status.idle": "2023-04-16T17:24:45.578304Z",
     "shell.execute_reply": "2023-04-16T17:24:45.577425Z"
    },
    "papermill": {
     "duration": 0.019743,
     "end_time": "2023-04-16T17:24:45.580339",
     "exception": false,
     "start_time": "2023-04-16T17:24:45.560596",
     "status": "completed"
    },
    "tags": []
   },
   "outputs": [],
   "source": [
    "\n",
    "\n",
    "\n",
    "cat=['Acne and Rosacea Photos',\n",
    " 'Normal',\n",
    " 'vitiligo',\n",
    " 'Tinea Ringworm Candidiasis and other Fungal Infections',\n",
    "     'Melanoma Skin Cancer Nevi and Moles',\n",
    " 'Eczema Photos']"
   ]
  },
  {
   "cell_type": "code",
   "execution_count": 7,
   "id": "b99a8e26",
   "metadata": {
    "execution": {
     "iopub.execute_input": "2023-04-16T17:24:45.605865Z",
     "iopub.status.busy": "2023-04-16T17:24:45.605043Z",
     "iopub.status.idle": "2023-04-16T17:24:45.613026Z",
     "shell.execute_reply": "2023-04-16T17:24:45.612110Z"
    },
    "papermill": {
     "duration": 0.022961,
     "end_time": "2023-04-16T17:24:45.615047",
     "exception": false,
     "start_time": "2023-04-16T17:24:45.592086",
     "status": "completed"
    },
    "tags": []
   },
   "outputs": [],
   "source": [
    "def data_dictionary():\n",
    "    path_train=\"/kaggle/input/skindatasets/skin/train/\"\n",
    "    path_test=\"/kaggle/input/dermnet/train/\"\n",
    "    list_train=cat#os.listdir(path_train)\n",
    "    list_train1=cat2\n",
    "    train_dictionary={\"image_path\":[],\"target\":[]}\n",
    "    test_dictionary={\"image_path\":[],\"target\":[]}\n",
    "    k=0\n",
    "    for i in list_train:\n",
    "        path_disease_train=path_train+i\n",
    "        image_list_train=os.listdir(path_disease_train)\n",
    "        for j in image_list_train:\n",
    "            img_path_train=path_disease_train+\"/\"+j            \n",
    "            if img_path_train!=\"/kaggle/input/skindatasets/skin/train/Normal/34.avif\":\n",
    "                \n",
    "                train_dictionary[\"image_path\"].append(img_path_train)\n",
    "                train_dictionary['target'].append(k) \n",
    "        k+=1\n",
    "    for i in list_train1:\n",
    "        path_disease_test=path_test+i\n",
    "        image_list_test=os.listdir(path_disease_test)\n",
    "        for j in image_list_test:\n",
    "            img_path_train=path_disease_test+\"/\"+j            \n",
    "            train_dictionary[\"image_path\"].append(img_path_train)\n",
    "            train_dictionary['target'].append(4)\n",
    "    train_df=pd.DataFrame(train_dictionary)\n",
    "    return  train_df"
   ]
  },
  {
   "cell_type": "code",
   "execution_count": 8,
   "id": "f3925c50",
   "metadata": {
    "execution": {
     "iopub.execute_input": "2023-04-16T17:24:45.639332Z",
     "iopub.status.busy": "2023-04-16T17:24:45.639074Z",
     "iopub.status.idle": "2023-04-16T17:24:47.980031Z",
     "shell.execute_reply": "2023-04-16T17:24:47.978873Z"
    },
    "papermill": {
     "duration": 2.356449,
     "end_time": "2023-04-16T17:24:47.983031",
     "exception": false,
     "start_time": "2023-04-16T17:24:45.626582",
     "status": "completed"
    },
    "tags": []
   },
   "outputs": [],
   "source": [
    "train=data_dictionary()"
   ]
  },
  {
   "cell_type": "code",
   "execution_count": 9,
   "id": "6fd2e7a2",
   "metadata": {
    "execution": {
     "iopub.execute_input": "2023-04-16T17:24:48.008689Z",
     "iopub.status.busy": "2023-04-16T17:24:48.008371Z",
     "iopub.status.idle": "2023-04-16T17:26:30.839306Z",
     "shell.execute_reply": "2023-04-16T17:26:30.838131Z"
    },
    "papermill": {
     "duration": 102.847078,
     "end_time": "2023-04-16T17:26:30.842398",
     "exception": false,
     "start_time": "2023-04-16T17:24:47.995320",
     "status": "completed"
    },
    "tags": []
   },
   "outputs": [],
   "source": [
    "\n",
    "\n",
    "import cv2\n",
    "images=[]\n",
    "label=[]\n",
    "for i in train['image_path']:\n",
    "    if i!=\"/kaggle/input/skindatasets/skin/train/Normal/34.avif\":\n",
    "        img=cv2.imread(i)\n",
    "        img = cv2.cvtColor(img, cv2.COLOR_BGR2RGB)\n",
    "        img=cv2.resize(img,(224,224))\n",
    "        #img = cv2.cvtColor(img, cv2.COLOR_BGR2GRAY)\n",
    "        #img=cv2.resize(img,(64,64),interpolation=cv2.INTER_AREA)\n",
    "        #img=resize_and_rescale(img)\n",
    "        images.append(img)\n"
   ]
  },
  {
   "cell_type": "code",
   "execution_count": 10,
   "id": "32a72abd",
   "metadata": {
    "execution": {
     "iopub.execute_input": "2023-04-16T17:26:30.868904Z",
     "iopub.status.busy": "2023-04-16T17:26:30.868577Z",
     "iopub.status.idle": "2023-04-16T17:26:30.873728Z",
     "shell.execute_reply": "2023-04-16T17:26:30.872484Z"
    },
    "papermill": {
     "duration": 0.02141,
     "end_time": "2023-04-16T17:26:30.876517",
     "exception": false,
     "start_time": "2023-04-16T17:26:30.855107",
     "status": "completed"
    },
    "tags": []
   },
   "outputs": [],
   "source": [
    "label=train['target']"
   ]
  },
  {
   "cell_type": "code",
   "execution_count": 11,
   "id": "95a19827",
   "metadata": {
    "execution": {
     "iopub.execute_input": "2023-04-16T17:26:30.907213Z",
     "iopub.status.busy": "2023-04-16T17:26:30.906908Z",
     "iopub.status.idle": "2023-04-16T17:26:31.192705Z",
     "shell.execute_reply": "2023-04-16T17:26:31.191725Z"
    },
    "papermill": {
     "duration": 0.305839,
     "end_time": "2023-04-16T17:26:31.195058",
     "exception": false,
     "start_time": "2023-04-16T17:26:30.889219",
     "status": "completed"
    },
    "tags": []
   },
   "outputs": [
    {
     "data": {
      "image/png": "[encoded data removed]",
      "text/plain": [
       "<Figure size 640x480 with 1 Axes>"
      ]
     },
     "metadata": {},
     "output_type": "display_data"
    }
   ],
   "source": [
    "import matplotlib.pyplot as plt\n",
    "import tensorflow as tf\n",
    "import seaborn as sns\n",
    "import random\n",
    "from PIL import Image\n",
    "from tensorflow.keras.preprocessing import image\n",
    "from tensorflow.keras.applications.inception_v3 import InceptionV3\n",
    "from tensorflow.keras import Sequential, Model\n",
    "from keras.layers import (Conv2D, MaxPooling2D, Dense, Flatten, \n",
    "                          Dropout, Input,GlobalAveragePooling2D,BatchNormalization)\n",
    "from tensorflow.keras.activations import softmax\n",
    "from tensorflow.keras.optimizers import Adam\n",
    "from keras.preprocessing.image import ImageDataGenerator\n",
    "from mpl_toolkits.axes_grid1 import ImageGrid\n",
    "from keras.models import Model\n",
    "from keras.applications.vgg16 import VGG16, preprocess_input\n",
    "from keras.callbacks import ModelCheckpoint, EarlyStopping\n",
    "from sklearn.metrics import (ConfusionMatrixDisplay, confusion_matrix, \n",
    "                             accuracy_score)\n",
    "ax = sns.countplot(x=train['target'],\n",
    "                   order=train['target'].value_counts(ascending=False).index);\n",
    "abs_values = train['target'].value_counts(ascending=False).values\n",
    "ax.bar_label(container=ax.containers[0], labels=abs_values);"
   ]
  },
  {
   "cell_type": "code",
   "execution_count": 12,
   "id": "2ef9a347",
   "metadata": {
    "execution": {
     "iopub.execute_input": "2023-04-16T17:26:31.220750Z",
     "iopub.status.busy": "2023-04-16T17:26:31.220461Z",
     "iopub.status.idle": "2023-04-16T17:26:31.226989Z",
     "shell.execute_reply": "2023-04-16T17:26:31.225882Z"
    },
    "papermill": {
     "duration": 0.022557,
     "end_time": "2023-04-16T17:26:31.230269",
     "exception": false,
     "start_time": "2023-04-16T17:26:31.207712",
     "status": "completed"
    },
    "tags": []
   },
   "outputs": [
    {
     "data": {
      "text/plain": [
       "7330"
      ]
     },
     "execution_count": 12,
     "metadata": {},
     "output_type": "execute_result"
    }
   ],
   "source": [
    "len(label)"
   ]
  },
  {
   "cell_type": "code",
   "execution_count": 13,
   "id": "e6c31b57",
   "metadata": {
    "execution": {
     "iopub.execute_input": "2023-04-16T17:26:31.255728Z",
     "iopub.status.busy": "2023-04-16T17:26:31.255452Z",
     "iopub.status.idle": "2023-04-16T17:26:31.261201Z",
     "shell.execute_reply": "2023-04-16T17:26:31.260206Z"
    },
    "papermill": {
     "duration": 0.020996,
     "end_time": "2023-04-16T17:26:31.263201",
     "exception": false,
     "start_time": "2023-04-16T17:26:31.242205",
     "status": "completed"
    },
    "tags": []
   },
   "outputs": [
    {
     "data": {
      "text/plain": [
       "7330"
      ]
     },
     "execution_count": 13,
     "metadata": {},
     "output_type": "execute_result"
    }
   ],
   "source": [
    "len(images)"
   ]
  },
  {
   "cell_type": "code",
   "execution_count": 14,
   "id": "18ee47a5",
   "metadata": {
    "execution": {
     "iopub.execute_input": "2023-04-16T17:26:31.289366Z",
     "iopub.status.busy": "2023-04-16T17:26:31.288416Z",
     "iopub.status.idle": "2023-04-16T17:26:31.293298Z",
     "shell.execute_reply": "2023-04-16T17:26:31.292176Z"
    },
    "papermill": {
     "duration": 0.020576,
     "end_time": "2023-04-16T17:26:31.295984",
     "exception": false,
     "start_time": "2023-04-16T17:26:31.275408",
     "status": "completed"
    },
    "tags": []
   },
   "outputs": [],
   "source": [
    "import numpy as np\n",
    "import pandas as pd"
   ]
  },
  {
   "cell_type": "code",
   "execution_count": 15,
   "id": "d9f33664",
   "metadata": {
    "execution": {
     "iopub.execute_input": "2023-04-16T17:26:31.321562Z",
     "iopub.status.busy": "2023-04-16T17:26:31.321300Z",
     "iopub.status.idle": "2023-04-16T17:26:31.654891Z",
     "shell.execute_reply": "2023-04-16T17:26:31.653642Z"
    },
    "papermill": {
     "duration": 0.349221,
     "end_time": "2023-04-16T17:26:31.657676",
     "exception": false,
     "start_time": "2023-04-16T17:26:31.308455",
     "status": "completed"
    },
    "tags": []
   },
   "outputs": [],
   "source": [
    "data=np.array(images)\n"
   ]
  },
  {
   "cell_type": "code",
   "execution_count": 16,
   "id": "009e2c7b",
   "metadata": {
    "execution": {
     "iopub.execute_input": "2023-04-16T17:26:31.683968Z",
     "iopub.status.busy": "2023-04-16T17:26:31.683608Z",
     "iopub.status.idle": "2023-04-16T17:26:31.688848Z",
     "shell.execute_reply": "2023-04-16T17:26:31.687817Z"
    },
    "papermill": {
     "duration": 0.020562,
     "end_time": "2023-04-16T17:26:31.691062",
     "exception": false,
     "start_time": "2023-04-16T17:26:31.670500",
     "status": "completed"
    },
    "tags": []
   },
   "outputs": [],
   "source": [
    "label=np.array(label)"
   ]
  },
  {
   "cell_type": "code",
   "execution_count": 17,
   "id": "0f30c5ac",
   "metadata": {
    "execution": {
     "iopub.execute_input": "2023-04-16T17:26:31.717431Z",
     "iopub.status.busy": "2023-04-16T17:26:31.716713Z",
     "iopub.status.idle": "2023-04-16T17:26:31.723988Z",
     "shell.execute_reply": "2023-04-16T17:26:31.722999Z"
    },
    "papermill": {
     "duration": 0.023,
     "end_time": "2023-04-16T17:26:31.726338",
     "exception": false,
     "start_time": "2023-04-16T17:26:31.703338",
     "status": "completed"
    },
    "tags": []
   },
   "outputs": [
    {
     "data": {
      "text/plain": [
       "(7330, 224, 224, 3)"
      ]
     },
     "execution_count": 17,
     "metadata": {},
     "output_type": "execute_result"
    }
   ],
   "source": [
    "data.shape"
   ]
  },
  {
   "cell_type": "code",
   "execution_count": 18,
   "id": "387b053c",
   "metadata": {
    "execution": {
     "iopub.execute_input": "2023-04-16T17:26:31.752642Z",
     "iopub.status.busy": "2023-04-16T17:26:31.751750Z",
     "iopub.status.idle": "2023-04-16T17:26:31.759378Z",
     "shell.execute_reply": "2023-04-16T17:26:31.758475Z"
    },
    "papermill": {
     "duration": 0.022885,
     "end_time": "2023-04-16T17:26:31.761636",
     "exception": false,
     "start_time": "2023-04-16T17:26:31.738751",
     "status": "completed"
    },
    "tags": []
   },
   "outputs": [
    {
     "data": {
      "text/plain": [
       "(7330,)"
      ]
     },
     "execution_count": 18,
     "metadata": {},
     "output_type": "execute_result"
    }
   ],
   "source": [
    "label.shape"
   ]
  },
  {
   "cell_type": "code",
   "execution_count": 19,
   "id": "3349b7ec",
   "metadata": {
    "execution": {
     "iopub.execute_input": "2023-04-16T17:26:31.788529Z",
     "iopub.status.busy": "2023-04-16T17:26:31.788269Z",
     "iopub.status.idle": "2023-04-16T17:26:42.956217Z",
     "shell.execute_reply": "2023-04-16T17:26:42.954877Z"
    },
    "papermill": {
     "duration": 11.184962,
     "end_time": "2023-04-16T17:26:42.958933",
     "exception": false,
     "start_time": "2023-04-16T17:26:31.773971",
     "status": "completed"
    },
    "tags": []
   },
   "outputs": [
    {
     "name": "stdout",
     "output_type": "stream",
     "text": [
      "Collecting sklearn_relief\r\n",
      "  Downloading sklearn_relief-1.0.0b2-py3-none-any.whl (8.7 kB)\r\n",
      "Requirement already satisfied: scikit-learn>=0.19.1 in /opt/conda/lib/python3.7/site-packages (from sklearn_relief) (1.0.2)\r\n",
      "Requirement already satisfied: numpy>=1.13.3 in /opt/conda/lib/python3.7/site-packages (from sklearn_relief) (1.21.6)\r\n",
      "Requirement already satisfied: scipy>=1.0.0 in /opt/conda/lib/python3.7/site-packages (from sklearn_relief) (1.7.3)\r\n",
      "Requirement already satisfied: joblib>=0.11 in /opt/conda/lib/python3.7/site-packages (from scikit-learn>=0.19.1->sklearn_relief) (1.2.0)\r\n",
      "Requirement already satisfied: threadpoolctl>=2.0.0 in /opt/conda/lib/python3.7/site-packages (from scikit-learn>=0.19.1->sklearn_relief) (3.1.0)\r\n",
      "Installing collected packages: sklearn_relief\r\n",
      "Successfully installed sklearn_relief-1.0.0b2\r\n",
      "\u001b[33mWARNING: Running pip as the 'root' user can result in broken permissions and conflicting behaviour with the system package manager. It is recommended to use a virtual environment instead: https://pip.pypa.io/warnings/venv\u001b[0m\u001b[33m\r\n",
      "\u001b[0m"
     ]
    }
   ],
   "source": [
    "!pip install sklearn_relief"
   ]
  },
  {
   "cell_type": "code",
   "execution_count": 20,
   "id": "583a9bfd",
   "metadata": {
    "execution": {
     "iopub.execute_input": "2023-04-16T17:26:42.987679Z",
     "iopub.status.busy": "2023-04-16T17:26:42.986697Z",
     "iopub.status.idle": "2023-04-16T17:26:43.353484Z",
     "shell.execute_reply": "2023-04-16T17:26:43.352322Z"
    },
    "papermill": {
     "duration": 0.384021,
     "end_time": "2023-04-16T17:26:43.356350",
     "exception": false,
     "start_time": "2023-04-16T17:26:42.972329",
     "status": "completed"
    },
    "tags": []
   },
   "outputs": [],
   "source": [
    "# Base Libraries\n",
    "import numpy as np \n",
    "import pandas as pd\n",
    "import matplotlib.pyplot as plt\n",
    "import seaborn as sns\n",
    "import os\n",
    "# Transformation\n",
    "from sklearn.preprocessing import MinMaxScaler\n",
    "from sklearn.preprocessing import power_transform\n",
    "from sklearn.pipeline import Pipeline\n",
    "# Feature Selection\n",
    "\n",
    "\n",
    "from sklearn.model_selection import train_test_split\n",
    "from sklearn.ensemble import RandomForestRegressor"
   ]
  },
  {
   "cell_type": "code",
   "execution_count": 21,
   "id": "ce875086",
   "metadata": {
    "execution": {
     "iopub.execute_input": "2023-04-16T17:26:43.385404Z",
     "iopub.status.busy": "2023-04-16T17:26:43.385054Z",
     "iopub.status.idle": "2023-04-16T17:26:43.391098Z",
     "shell.execute_reply": "2023-04-16T17:26:43.390086Z"
    },
    "papermill": {
     "duration": 0.022957,
     "end_time": "2023-04-16T17:26:43.393620",
     "exception": false,
     "start_time": "2023-04-16T17:26:43.370663",
     "status": "completed"
    },
    "tags": []
   },
   "outputs": [],
   "source": [
    "from tensorflow.keras.applications import  VGG19,EfficientNetB0,VGG16,InceptionV3,ResNet50,EfficientNetB3\n",
    "from tensorflow.keras.models import Model\n",
    "from keras.applications.vgg16 import preprocess_input"
   ]
  },
  {
   "cell_type": "code",
   "execution_count": 22,
   "id": "043fac03",
   "metadata": {
    "execution": {
     "iopub.execute_input": "2023-04-16T17:26:43.421549Z",
     "iopub.status.busy": "2023-04-16T17:26:43.420660Z",
     "iopub.status.idle": "2023-04-16T17:26:48.088365Z",
     "shell.execute_reply": "2023-04-16T17:26:48.087238Z"
    },
    "papermill": {
     "duration": 4.684184,
     "end_time": "2023-04-16T17:26:48.091137",
     "exception": false,
     "start_time": "2023-04-16T17:26:43.406953",
     "status": "completed"
    },
    "tags": []
   },
   "outputs": [
    {
     "name": "stdout",
     "output_type": "stream",
     "text": [
      "Downloading data from https://storage.googleapis.com/tensorflow/keras-applications/vgg19/vgg19_weights_tf_dim_ordering_tf_kernels_notop.h5\n",
      "80134624/80134624 [==============================] - 0s 0us/step\n"
     ]
    }
   ],
   "source": [
    "vgg_model = VGG19(weights = 'imagenet',  include_top = False, input_shape = (224, 224, 3)) "
   ]
  },
  {
   "cell_type": "code",
   "execution_count": 23,
   "id": "2c47eaf7",
   "metadata": {
    "execution": {
     "iopub.execute_input": "2023-04-16T17:26:48.120981Z",
     "iopub.status.busy": "2023-04-16T17:26:48.120650Z",
     "iopub.status.idle": "2023-04-16T17:26:48.126326Z",
     "shell.execute_reply": "2023-04-16T17:26:48.125179Z"
    },
    "papermill": {
     "duration": 0.022712,
     "end_time": "2023-04-16T17:26:48.128364",
     "exception": false,
     "start_time": "2023-04-16T17:26:48.105652",
     "status": "completed"
    },
    "tags": []
   },
   "outputs": [],
   "source": [
    "# let's make all layers non-trainable\n",
    "for layer in vgg_model.layers : \n",
    "    layer.trainable = False"
   ]
  },
  {
   "cell_type": "code",
   "execution_count": 24,
   "id": "680831b0",
   "metadata": {
    "execution": {
     "iopub.execute_input": "2023-04-16T17:26:48.155706Z",
     "iopub.status.busy": "2023-04-16T17:26:48.155141Z",
     "iopub.status.idle": "2023-04-16T17:26:48.529689Z",
     "shell.execute_reply": "2023-04-16T17:26:48.528539Z"
    },
    "papermill": {
     "duration": 0.391315,
     "end_time": "2023-04-16T17:26:48.532683",
     "exception": false,
     "start_time": "2023-04-16T17:26:48.141368",
     "status": "completed"
    },
    "tags": []
   },
   "outputs": [
    {
     "data": {
      "image/png": "[encoded data removed]",
      "text/plain": [
       "<IPython.core.display.Image object>"
      ]
     },
     "execution_count": 24,
     "metadata": {},
     "output_type": "execute_result"
    }
   ],
   "source": [
    "from keras.utils.vis_utils import plot_model\n",
    "plot_model(vgg_model, to_file='model_plot.png', show_shapes=True, show_layer_names=True)"
   ]
  },
  {
   "cell_type": "code",
   "execution_count": 25,
   "id": "56b335ea",
   "metadata": {
    "execution": {
     "iopub.execute_input": "2023-04-16T17:26:48.567199Z",
     "iopub.status.busy": "2023-04-16T17:26:48.566868Z",
     "iopub.status.idle": "2023-04-16T17:26:48.574007Z",
     "shell.execute_reply": "2023-04-16T17:26:48.573057Z"
    },
    "papermill": {
     "duration": 0.026902,
     "end_time": "2023-04-16T17:26:48.576273",
     "exception": false,
     "start_time": "2023-04-16T17:26:48.549371",
     "status": "completed"
    },
    "tags": []
   },
   "outputs": [],
   "source": [
    "from tensorflow.keras.models import Sequential\n",
    "from tensorflow.keras.layers import Conv2D,MaxPooling2D,Flatten, Dense\n"
   ]
  },
  {
   "cell_type": "code",
   "execution_count": 26,
   "id": "8b9f7977",
   "metadata": {
    "execution": {
     "iopub.execute_input": "2023-04-16T17:26:48.609056Z",
     "iopub.status.busy": "2023-04-16T17:26:48.608759Z",
     "iopub.status.idle": "2023-04-16T17:26:48.622417Z",
     "shell.execute_reply": "2023-04-16T17:26:48.621505Z"
    },
    "papermill": {
     "duration": 0.032483,
     "end_time": "2023-04-16T17:26:48.624505",
     "exception": false,
     "start_time": "2023-04-16T17:26:48.592022",
     "status": "completed"
    },
    "tags": []
   },
   "outputs": [],
   "source": [
    "model=Sequential([ \n",
    "                   \n",
    "                    Dense(200,activation='relu'),\n",
    "                  Dense(170,activation='relu'),\n",
    "                  Dense(6,activation='softmax'),\n",
    "\n",
    "])"
   ]
  },
  {
   "cell_type": "code",
   "execution_count": 27,
   "id": "b3d882b3",
   "metadata": {
    "execution": {
     "iopub.execute_input": "2023-04-16T17:26:48.656673Z",
     "iopub.status.busy": "2023-04-16T17:26:48.655773Z",
     "iopub.status.idle": "2023-04-16T17:26:48.660749Z",
     "shell.execute_reply": "2023-04-16T17:26:48.659846Z"
    },
    "papermill": {
     "duration": 0.023306,
     "end_time": "2023-04-16T17:26:48.662861",
     "exception": false,
     "start_time": "2023-04-16T17:26:48.639555",
     "status": "completed"
    },
    "tags": []
   },
   "outputs": [],
   "source": [
    "from keras.callbacks import ModelCheckpoint, ReduceLROnPlateau"
   ]
  },
  {
   "cell_type": "code",
   "execution_count": 28,
   "id": "744d09c3",
   "metadata": {
    "execution": {
     "iopub.execute_input": "2023-04-16T17:26:48.695114Z",
     "iopub.status.busy": "2023-04-16T17:26:48.694304Z",
     "iopub.status.idle": "2023-04-16T17:26:48.699720Z",
     "shell.execute_reply": "2023-04-16T17:26:48.698841Z"
    },
    "papermill": {
     "duration": 0.023785,
     "end_time": "2023-04-16T17:26:48.701937",
     "exception": false,
     "start_time": "2023-04-16T17:26:48.678152",
     "status": "completed"
    },
    "tags": []
   },
   "outputs": [],
   "source": [
    "mcp_save = ModelCheckpoint('EnetB0_CIFAR10_TL.h5', save_best_only=True, monitor='val_acc')\n",
    "reduce_lr = ReduceLROnPlateau(monitor='val_acc', factor=0.5, patience=2, verbose=1,)"
   ]
  },
  {
   "cell_type": "code",
   "execution_count": 29,
   "id": "6ea8030c",
   "metadata": {
    "execution": {
     "iopub.execute_input": "2023-04-16T17:26:48.734665Z",
     "iopub.status.busy": "2023-04-16T17:26:48.734110Z",
     "iopub.status.idle": "2023-04-16T17:26:48.751715Z",
     "shell.execute_reply": "2023-04-16T17:26:48.750831Z"
    },
    "papermill": {
     "duration": 0.036709,
     "end_time": "2023-04-16T17:26:48.753993",
     "exception": false,
     "start_time": "2023-04-16T17:26:48.717284",
     "status": "completed"
    },
    "tags": []
   },
   "outputs": [],
   "source": [
    "model.compile(optimizer='adam',loss='categorical_crossentropy',metrics=['accuracy'])"
   ]
  },
  {
   "cell_type": "code",
   "execution_count": 30,
   "id": "a5d879b4",
   "metadata": {
    "execution": {
     "iopub.execute_input": "2023-04-16T17:26:48.785889Z",
     "iopub.status.busy": "2023-04-16T17:26:48.785577Z",
     "iopub.status.idle": "2023-04-16T17:26:48.790218Z",
     "shell.execute_reply": "2023-04-16T17:26:48.789237Z"
    },
    "papermill": {
     "duration": 0.022972,
     "end_time": "2023-04-16T17:26:48.792243",
     "exception": false,
     "start_time": "2023-04-16T17:26:48.769271",
     "status": "completed"
    },
    "tags": []
   },
   "outputs": [],
   "source": [
    "from sklearn.model_selection import KFold \n",
    "from sklearn.model_selection import train_test_split \n",
    "kf = KFold(n_splits = 3)"
   ]
  },
  {
   "cell_type": "code",
   "execution_count": 31,
   "id": "10209baf",
   "metadata": {
    "execution": {
     "iopub.execute_input": "2023-04-16T17:26:48.826770Z",
     "iopub.status.busy": "2023-04-16T17:26:48.825832Z",
     "iopub.status.idle": "2023-04-16T17:26:48.831389Z",
     "shell.execute_reply": "2023-04-16T17:26:48.830401Z"
    },
    "papermill": {
     "duration": 0.025471,
     "end_time": "2023-04-16T17:26:48.833630",
     "exception": false,
     "start_time": "2023-04-16T17:26:48.808159",
     "status": "completed"
    },
    "tags": []
   },
   "outputs": [],
   "source": [
    "import keras\n",
    "acc=[]\n",
    "num_classes = 6\n",
    "label = keras.utils.to_categorical(label, num_classes)"
   ]
  },
  {
   "cell_type": "code",
   "execution_count": 32,
   "id": "9d946233",
   "metadata": {
    "execution": {
     "iopub.execute_input": "2023-04-16T17:26:48.867153Z",
     "iopub.status.busy": "2023-04-16T17:26:48.866883Z",
     "iopub.status.idle": "2023-04-16T17:26:48.872986Z",
     "shell.execute_reply": "2023-04-16T17:26:48.871968Z"
    },
    "papermill": {
     "duration": 0.025458,
     "end_time": "2023-04-16T17:26:48.875110",
     "exception": false,
     "start_time": "2023-04-16T17:26:48.849652",
     "status": "completed"
    },
    "tags": []
   },
   "outputs": [
    {
     "data": {
      "text/plain": [
       "(7330, 6)"
      ]
     },
     "execution_count": 32,
     "metadata": {},
     "output_type": "execute_result"
    }
   ],
   "source": [
    "label.shape\n"
   ]
  },
  {
   "cell_type": "markdown",
   "id": "b60ee194",
   "metadata": {
    "papermill": {
     "duration": 0.016203,
     "end_time": "2023-04-16T17:26:48.907412",
     "exception": false,
     "start_time": "2023-04-16T17:26:48.891209",
     "status": "completed"
    },
    "tags": []
   },
   "source": [
    "# ****#Evaluting the model multiple times"
   ]
  },
  {
   "cell_type": "code",
   "execution_count": 33,
   "id": "6ee13a9c",
   "metadata": {
    "execution": {
     "iopub.execute_input": "2023-04-16T17:26:48.941142Z",
     "iopub.status.busy": "2023-04-16T17:26:48.940342Z",
     "iopub.status.idle": "2023-04-16T17:36:09.614732Z",
     "shell.execute_reply": "2023-04-16T17:36:09.613610Z"
    },
    "papermill": {
     "duration": 560.896564,
     "end_time": "2023-04-16T17:36:09.820037",
     "exception": false,
     "start_time": "2023-04-16T17:26:48.923473",
     "status": "completed"
    },
    "tags": []
   },
   "outputs": [
    {
     "name": "stdout",
     "output_type": "stream",
     "text": [
      "184/184 [==============================] - 38s 141ms/step\n",
      "46/46 [==============================] - 11s 248ms/step\n",
      "Epoch 1/100\n",
      "184/184 [==============================] - 3s 5ms/step - loss: 2.6662 - accuracy: 0.7045\n",
      "Epoch 2/100\n",
      "184/184 [==============================] - 1s 5ms/step - loss: 0.4547 - accuracy: 0.8759\n",
      "Epoch 3/100\n",
      "184/184 [==============================] - 1s 5ms/step - loss: 0.3538 - accuracy: 0.9086\n",
      "Epoch 4/100\n",
      "184/184 [==============================] - 1s 5ms/step - loss: 0.1867 - accuracy: 0.9504\n",
      "Epoch 5/100\n",
      "184/184 [==============================] - 1s 5ms/step - loss: 0.1323 - accuracy: 0.9676\n",
      "Epoch 6/100\n",
      "184/184 [==============================] - 1s 5ms/step - loss: 0.2135 - accuracy: 0.9485\n",
      "Epoch 7/100\n",
      "184/184 [==============================] - 1s 5ms/step - loss: 0.1466 - accuracy: 0.9679\n",
      "Epoch 8/100\n",
      "184/184 [==============================] - 1s 5ms/step - loss: 0.2099 - accuracy: 0.9582\n",
      "Epoch 9/100\n",
      "184/184 [==============================] - 1s 5ms/step - loss: 0.2164 - accuracy: 0.9645\n",
      "Epoch 10/100\n",
      "184/184 [==============================] - 1s 5ms/step - loss: 0.1606 - accuracy: 0.9734\n",
      "Epoch 11/100\n",
      "184/184 [==============================] - 1s 5ms/step - loss: 0.1882 - accuracy: 0.9710\n",
      "Epoch 12/100\n",
      "184/184 [==============================] - 1s 5ms/step - loss: 0.1963 - accuracy: 0.9746\n",
      "Epoch 13/100\n",
      "184/184 [==============================] - 1s 5ms/step - loss: 0.2367 - accuracy: 0.9642\n",
      "Epoch 14/100\n",
      "184/184 [==============================] - 1s 5ms/step - loss: 0.1169 - accuracy: 0.9802\n",
      "Epoch 15/100\n",
      "184/184 [==============================] - 1s 5ms/step - loss: 0.0944 - accuracy: 0.9833\n",
      "Epoch 16/100\n",
      "184/184 [==============================] - 1s 5ms/step - loss: 0.0846 - accuracy: 0.9855\n",
      "Epoch 17/100\n",
      "184/184 [==============================] - 1s 5ms/step - loss: 0.0922 - accuracy: 0.9835\n",
      "Epoch 18/100\n",
      "184/184 [==============================] - 1s 5ms/step - loss: 0.1757 - accuracy: 0.9763\n",
      "Epoch 19/100\n",
      "184/184 [==============================] - 1s 5ms/step - loss: 0.1427 - accuracy: 0.9819\n",
      "Epoch 20/100\n",
      "184/184 [==============================] - 1s 5ms/step - loss: 0.1962 - accuracy: 0.9760\n",
      "Epoch 21/100\n",
      "184/184 [==============================] - 1s 5ms/step - loss: 0.0643 - accuracy: 0.9898\n",
      "Epoch 22/100\n",
      "184/184 [==============================] - 1s 5ms/step - loss: 0.0552 - accuracy: 0.9930\n",
      "Epoch 23/100\n",
      "184/184 [==============================] - 1s 5ms/step - loss: 0.0351 - accuracy: 0.9947\n",
      "Epoch 24/100\n",
      "184/184 [==============================] - 1s 5ms/step - loss: 0.0690 - accuracy: 0.9922\n",
      "Epoch 25/100\n",
      "184/184 [==============================] - 1s 7ms/step - loss: 0.0755 - accuracy: 0.9894\n",
      "Epoch 26/100\n",
      "184/184 [==============================] - 1s 5ms/step - loss: 0.0848 - accuracy: 0.9881\n",
      "Epoch 27/100\n",
      "184/184 [==============================] - 1s 5ms/step - loss: 0.1045 - accuracy: 0.9840\n",
      "Epoch 28/100\n",
      "184/184 [==============================] - 1s 5ms/step - loss: 0.0397 - accuracy: 0.9922\n",
      "Epoch 29/100\n",
      "184/184 [==============================] - 1s 5ms/step - loss: 0.0315 - accuracy: 0.9930\n",
      "Epoch 30/100\n",
      "184/184 [==============================] - 1s 5ms/step - loss: 0.0425 - accuracy: 0.9920\n",
      "Epoch 31/100\n",
      "184/184 [==============================] - 1s 5ms/step - loss: 0.0239 - accuracy: 0.9956\n",
      "Epoch 32/100\n",
      "184/184 [==============================] - 1s 5ms/step - loss: 0.0157 - accuracy: 0.9952\n",
      "Epoch 33/100\n",
      "184/184 [==============================] - 1s 5ms/step - loss: 0.0204 - accuracy: 0.9966\n",
      "Epoch 34/100\n",
      "184/184 [==============================] - 1s 5ms/step - loss: 0.0311 - accuracy: 0.9942\n",
      "Epoch 35/100\n",
      "184/184 [==============================] - 1s 5ms/step - loss: 0.0655 - accuracy: 0.9887\n",
      "Epoch 36/100\n",
      "184/184 [==============================] - 1s 5ms/step - loss: 0.2075 - accuracy: 0.9778\n",
      "Epoch 37/100\n",
      "184/184 [==============================] - 1s 5ms/step - loss: 0.2297 - accuracy: 0.9838\n",
      "Epoch 38/100\n",
      "184/184 [==============================] - 1s 5ms/step - loss: 0.1587 - accuracy: 0.9823\n",
      "Epoch 39/100\n",
      "184/184 [==============================] - 1s 5ms/step - loss: 0.1001 - accuracy: 0.9879\n",
      "Epoch 40/100\n",
      "184/184 [==============================] - 1s 5ms/step - loss: 0.0815 - accuracy: 0.9922\n",
      "Epoch 41/100\n",
      "184/184 [==============================] - 1s 5ms/step - loss: 0.1049 - accuracy: 0.9961\n",
      "Epoch 42/100\n",
      "184/184 [==============================] - 1s 5ms/step - loss: 0.0706 - accuracy: 0.9952\n",
      "Epoch 43/100\n",
      "184/184 [==============================] - 1s 5ms/step - loss: 0.0205 - accuracy: 0.9968\n",
      "Epoch 44/100\n",
      "184/184 [==============================] - 1s 5ms/step - loss: 0.0194 - accuracy: 0.9976\n",
      "Epoch 45/100\n",
      "184/184 [==============================] - 1s 5ms/step - loss: 0.0270 - accuracy: 0.9954\n",
      "Epoch 46/100\n",
      "184/184 [==============================] - 1s 5ms/step - loss: 0.0148 - accuracy: 0.9976\n",
      "Epoch 47/100\n",
      "184/184 [==============================] - 1s 5ms/step - loss: 0.0072 - accuracy: 0.9985\n",
      "Epoch 48/100\n",
      "184/184 [==============================] - 1s 5ms/step - loss: 0.0064 - accuracy: 0.9985\n",
      "Epoch 49/100\n",
      "184/184 [==============================] - 1s 5ms/step - loss: 0.0048 - accuracy: 0.9990\n",
      "Epoch 50/100\n",
      "184/184 [==============================] - 1s 5ms/step - loss: 0.0060 - accuracy: 0.9988\n",
      "Epoch 51/100\n",
      "184/184 [==============================] - 1s 5ms/step - loss: 0.0052 - accuracy: 0.9986\n",
      "Epoch 52/100\n",
      "184/184 [==============================] - 1s 5ms/step - loss: 0.0013 - accuracy: 0.9997\n",
      "Epoch 53/100\n",
      "184/184 [==============================] - 1s 5ms/step - loss: 0.0017 - accuracy: 0.9995\n",
      "Epoch 54/100\n",
      "184/184 [==============================] - 1s 5ms/step - loss: 6.6292e-04 - accuracy: 0.9997\n",
      "Epoch 55/100\n",
      "184/184 [==============================] - 1s 5ms/step - loss: 0.0014 - accuracy: 0.9997\n",
      "Epoch 56/100\n",
      "184/184 [==============================] - 1s 5ms/step - loss: 0.0010 - accuracy: 0.9997\n",
      "Epoch 57/100\n",
      "184/184 [==============================] - 1s 5ms/step - loss: 0.0022 - accuracy: 0.9993\n",
      "Epoch 58/100\n",
      "184/184 [==============================] - 1s 5ms/step - loss: 0.0082 - accuracy: 0.9980\n",
      "Epoch 59/100\n",
      "184/184 [==============================] - 1s 5ms/step - loss: 0.1172 - accuracy: 0.9862\n",
      "Epoch 60/100\n",
      "184/184 [==============================] - 1s 6ms/step - loss: 0.1995 - accuracy: 0.9705\n",
      "Epoch 61/100\n",
      "184/184 [==============================] - 1s 5ms/step - loss: 0.0811 - accuracy: 0.9862\n",
      "Epoch 62/100\n",
      "184/184 [==============================] - 1s 5ms/step - loss: 0.0577 - accuracy: 0.9937\n",
      "Epoch 63/100\n",
      "184/184 [==============================] - 1s 5ms/step - loss: 0.0352 - accuracy: 0.9973\n",
      "Epoch 64/100\n",
      "184/184 [==============================] - 1s 5ms/step - loss: 0.0109 - accuracy: 0.9986\n",
      "Epoch 65/100\n",
      "184/184 [==============================] - 1s 5ms/step - loss: 0.0118 - accuracy: 0.9973\n",
      "Epoch 66/100\n",
      "184/184 [==============================] - 1s 5ms/step - loss: 0.0020 - accuracy: 0.9993\n",
      "Epoch 67/100\n",
      "184/184 [==============================] - 1s 5ms/step - loss: 0.0012 - accuracy: 0.9995\n",
      "Epoch 68/100\n",
      "184/184 [==============================] - 1s 5ms/step - loss: 9.8761e-04 - accuracy: 0.9995\n",
      "Epoch 69/100\n",
      "184/184 [==============================] - 1s 5ms/step - loss: 0.0012 - accuracy: 0.9993\n",
      "Epoch 70/100\n",
      "184/184 [==============================] - 1s 5ms/step - loss: 9.4336e-04 - accuracy: 0.9995\n",
      "Epoch 71/100\n",
      "184/184 [==============================] - 1s 5ms/step - loss: 0.0011 - accuracy: 0.9997\n",
      "Epoch 72/100\n",
      "184/184 [==============================] - 1s 5ms/step - loss: 7.9671e-04 - accuracy: 0.9997\n",
      "Epoch 73/100\n",
      "184/184 [==============================] - 1s 5ms/step - loss: 0.0015 - accuracy: 0.9997\n",
      "Epoch 74/100\n",
      "184/184 [==============================] - 1s 5ms/step - loss: 0.0014 - accuracy: 0.9995\n",
      "Epoch 75/100\n",
      "184/184 [==============================] - 1s 5ms/step - loss: 0.0344 - accuracy: 0.9930\n",
      "Epoch 76/100\n",
      "184/184 [==============================] - 1s 5ms/step - loss: 0.0637 - accuracy: 0.9872\n",
      "Epoch 77/100\n",
      "184/184 [==============================] - 1s 5ms/step - loss: 0.0786 - accuracy: 0.9898\n",
      "Epoch 78/100\n",
      "184/184 [==============================] - 1s 5ms/step - loss: 0.0498 - accuracy: 0.9920\n",
      "Epoch 79/100\n",
      "184/184 [==============================] - 1s 5ms/step - loss: 0.0134 - accuracy: 0.9966\n",
      "Epoch 80/100\n",
      "184/184 [==============================] - 1s 5ms/step - loss: 0.0863 - accuracy: 0.9947\n",
      "Epoch 81/100\n",
      "184/184 [==============================] - 1s 5ms/step - loss: 0.0217 - accuracy: 0.9966\n",
      "Epoch 82/100\n",
      "184/184 [==============================] - 1s 5ms/step - loss: 0.1078 - accuracy: 0.9939\n",
      "Epoch 83/100\n",
      "184/184 [==============================] - 1s 5ms/step - loss: 0.0625 - accuracy: 0.9954\n",
      "Epoch 84/100\n",
      "184/184 [==============================] - 1s 5ms/step - loss: 0.1391 - accuracy: 0.9939\n",
      "Epoch 85/100\n",
      "184/184 [==============================] - 1s 5ms/step - loss: 0.0387 - accuracy: 0.9942\n",
      "Epoch 86/100\n",
      "184/184 [==============================] - 1s 5ms/step - loss: 0.0237 - accuracy: 0.9968\n",
      "Epoch 87/100\n",
      "184/184 [==============================] - 1s 5ms/step - loss: 0.0176 - accuracy: 0.9959\n",
      "Epoch 88/100\n",
      "184/184 [==============================] - 1s 5ms/step - loss: 0.0129 - accuracy: 0.9973\n",
      "Epoch 89/100\n",
      "184/184 [==============================] - 1s 5ms/step - loss: 0.0052 - accuracy: 0.9993\n",
      "Epoch 90/100\n",
      "184/184 [==============================] - 1s 5ms/step - loss: 0.0010 - accuracy: 0.9997\n",
      "Epoch 91/100\n",
      "184/184 [==============================] - 1s 5ms/step - loss: 0.0015 - accuracy: 0.9997\n",
      "Epoch 92/100\n",
      "184/184 [==============================] - 1s 5ms/step - loss: 0.0020 - accuracy: 0.9993\n",
      "Epoch 93/100\n",
      "184/184 [==============================] - 1s 5ms/step - loss: 0.0017 - accuracy: 0.9997\n",
      "Epoch 94/100\n",
      "184/184 [==============================] - 1s 6ms/step - loss: 0.0012 - accuracy: 0.9995\n",
      "Epoch 95/100\n",
      "184/184 [==============================] - 1s 5ms/step - loss: 7.6161e-04 - accuracy: 0.9998\n",
      "Epoch 96/100\n",
      "184/184 [==============================] - 1s 5ms/step - loss: 8.1868e-04 - accuracy: 0.9998\n",
      "Epoch 97/100\n",
      "184/184 [==============================] - 1s 5ms/step - loss: 0.0017 - accuracy: 0.9995\n",
      "Epoch 98/100\n",
      "184/184 [==============================] - 1s 5ms/step - loss: 0.0012 - accuracy: 0.9993\n",
      "Epoch 99/100\n",
      "184/184 [==============================] - 1s 5ms/step - loss: 0.0013 - accuracy: 0.9998\n",
      "Epoch 100/100\n",
      "184/184 [==============================] - 1s 5ms/step - loss: 0.0021 - accuracy: 0.9997\n",
      "[0.7044679522514343, 0.875852644443512, 0.9085947871208191, 0.9503751993179321, 0.9675989151000977, 0.948499321937561, 0.9679399728775024, 0.9582196474075317, 0.9645293354988098, 0.9733970165252686, 0.9710095524787903, 0.9745907187461853, 0.964188277721405, 0.9802182912826538, 0.9832878708839417, 0.9855047464370728, 0.983458399772644, 0.976296067237854, 0.9819235801696777, 0.9759549498558044, 0.9897680878639221, 0.9930081963539124, 0.9947134852409363, 0.9921555519104004, 0.9894270300865173, 0.9880627393722534, 0.9839699864387512, 0.9921555519104004, 0.9930081963539124, 0.9919849634170532, 0.995566189289093, 0.9952251315116882, 0.9965893626213074, 0.9942018985748291, 0.988744854927063, 0.9778308272361755, 0.9837994575500488, 0.9822646379470825, 0.987892210483551, 0.9921555519104004, 0.9960777759552002, 0.9952251315116882, 0.9967598915100098, 0.9976125359535217, 0.9953956604003906, 0.9976125359535217, 0.9984652400016785, 0.9984652400016785, 0.9989768266677856, 0.9988062977790833, 0.9986357688903809, 0.9996589422225952, 0.9994884133338928, 0.9996589422225952, 0.9996589422225952, 0.9996589422225952, 0.9993178844451904, 0.9979535937309265, 0.9861869215965271, 0.9704979658126831, 0.9861869215965271, 0.9936903119087219, 0.9972714781761169, 0.9986357688903809, 0.9972714781761169, 0.9993178844451904, 0.9994884133338928, 0.9994884133338928, 0.9993178844451904, 0.9994884133338928, 0.9996589422225952, 0.9996589422225952, 0.9996589422225952, 0.9994884133338928, 0.9930081963539124, 0.9872100949287415, 0.9897680878639221, 0.9919849634170532, 0.9965893626213074, 0.9947134852409363, 0.9965893626213074, 0.9938608407974243, 0.9953956604003906, 0.9938608407974243, 0.9942018985748291, 0.9967598915100098, 0.9959072470664978, 0.9972714781761169, 0.9993178844451904, 0.9996589422225952, 0.9996589422225952, 0.9993178844451904, 0.9996589422225952, 0.9994884133338928, 0.9998294711112976, 0.9998294711112976, 0.9994884133338928, 0.9993178844451904, 0.9998294711112976, 0.9996589422225952]\n",
      "46/46 [==============================] - 0s 4ms/step - loss: 2.2604 - accuracy: 0.8513\n",
      "184/184 [==============================] - 25s 139ms/step\n",
      "46/46 [==============================] - 6s 142ms/step\n",
      "Epoch 1/100\n",
      "184/184 [==============================] - 1s 5ms/step - loss: 0.4460 - accuracy: 0.9449\n",
      "Epoch 2/100\n",
      "184/184 [==============================] - 1s 5ms/step - loss: 0.1822 - accuracy: 0.9690\n",
      "Epoch 3/100\n",
      "184/184 [==============================] - 1s 5ms/step - loss: 0.0548 - accuracy: 0.9874\n",
      "Epoch 4/100\n",
      "184/184 [==============================] - 1s 5ms/step - loss: 0.0331 - accuracy: 0.9913\n",
      "Epoch 5/100\n",
      "184/184 [==============================] - 1s 4ms/step - loss: 0.0178 - accuracy: 0.9952\n",
      "Epoch 6/100\n",
      "184/184 [==============================] - 1s 5ms/step - loss: 0.0111 - accuracy: 0.9966\n",
      "Epoch 7/100\n",
      "184/184 [==============================] - 1s 5ms/step - loss: 0.0130 - accuracy: 0.9971\n",
      "Epoch 8/100\n",
      "184/184 [==============================] - 1s 5ms/step - loss: 0.0068 - accuracy: 0.9980\n",
      "Epoch 9/100\n",
      "184/184 [==============================] - 1s 5ms/step - loss: 0.0151 - accuracy: 0.9973\n",
      "Epoch 10/100\n",
      "184/184 [==============================] - 1s 5ms/step - loss: 0.0174 - accuracy: 0.9971\n",
      "Epoch 11/100\n",
      "184/184 [==============================] - 1s 5ms/step - loss: 0.0148 - accuracy: 0.9962\n",
      "Epoch 12/100\n",
      "184/184 [==============================] - 1s 5ms/step - loss: 0.0389 - accuracy: 0.9933\n",
      "Epoch 13/100\n",
      "184/184 [==============================] - 1s 5ms/step - loss: 0.0153 - accuracy: 0.9961\n",
      "Epoch 14/100\n",
      "184/184 [==============================] - 1s 5ms/step - loss: 0.0051 - accuracy: 0.9983\n",
      "Epoch 15/100\n",
      "184/184 [==============================] - 1s 5ms/step - loss: 0.0034 - accuracy: 0.9988\n",
      "Epoch 16/100\n",
      "184/184 [==============================] - 1s 5ms/step - loss: 0.0040 - accuracy: 0.9990\n",
      "Epoch 17/100\n",
      "184/184 [==============================] - 1s 5ms/step - loss: 0.0041 - accuracy: 0.9990\n",
      "Epoch 18/100\n",
      "184/184 [==============================] - 1s 5ms/step - loss: 0.0032 - accuracy: 0.9991\n",
      "Epoch 19/100\n",
      "184/184 [==============================] - 1s 5ms/step - loss: 0.0047 - accuracy: 0.9988\n",
      "Epoch 20/100\n",
      "184/184 [==============================] - 1s 5ms/step - loss: 0.0026 - accuracy: 0.9991\n",
      "Epoch 21/100\n",
      "184/184 [==============================] - 1s 5ms/step - loss: 0.0019 - accuracy: 0.9993\n",
      "Epoch 22/100\n",
      "184/184 [==============================] - 1s 5ms/step - loss: 0.0021 - accuracy: 0.9991\n",
      "Epoch 23/100\n",
      "184/184 [==============================] - 1s 5ms/step - loss: 0.0268 - accuracy: 0.9940\n",
      "Epoch 24/100\n",
      "184/184 [==============================] - 1s 5ms/step - loss: 0.0448 - accuracy: 0.9901\n",
      "Epoch 25/100\n",
      "184/184 [==============================] - 1s 5ms/step - loss: 0.0323 - accuracy: 0.9928\n",
      "Epoch 26/100\n",
      "184/184 [==============================] - 1s 5ms/step - loss: 0.0216 - accuracy: 0.9964\n",
      "Epoch 27/100\n",
      "184/184 [==============================] - 1s 5ms/step - loss: 0.0104 - accuracy: 0.9973\n",
      "Epoch 28/100\n",
      "184/184 [==============================] - 1s 5ms/step - loss: 0.0026 - accuracy: 0.9990\n",
      "Epoch 29/100\n",
      "184/184 [==============================] - 1s 5ms/step - loss: 0.0042 - accuracy: 0.9990\n",
      "Epoch 30/100\n",
      "184/184 [==============================] - 1s 5ms/step - loss: 0.0024 - accuracy: 0.9990\n",
      "Epoch 31/100\n",
      "184/184 [==============================] - 1s 5ms/step - loss: 0.0022 - accuracy: 0.9991\n",
      "Epoch 32/100\n",
      "184/184 [==============================] - 1s 5ms/step - loss: 0.0031 - accuracy: 0.9988\n",
      "Epoch 33/100\n",
      "184/184 [==============================] - 1s 5ms/step - loss: 0.0018 - accuracy: 0.9991\n",
      "Epoch 34/100\n",
      "184/184 [==============================] - 1s 5ms/step - loss: 0.0037 - accuracy: 0.9991\n",
      "Epoch 35/100\n",
      "184/184 [==============================] - 1s 5ms/step - loss: 0.0024 - accuracy: 0.9991\n",
      "Epoch 36/100\n",
      "184/184 [==============================] - 1s 6ms/step - loss: 0.0020 - accuracy: 0.9990\n",
      "Epoch 37/100\n",
      "184/184 [==============================] - 1s 5ms/step - loss: 0.0018 - accuracy: 0.9990\n",
      "Epoch 38/100\n",
      "184/184 [==============================] - 1s 5ms/step - loss: 0.0025 - accuracy: 0.9991\n",
      "Epoch 39/100\n",
      "184/184 [==============================] - 1s 5ms/step - loss: 0.0017 - accuracy: 0.9991\n",
      "Epoch 40/100\n",
      "184/184 [==============================] - 1s 5ms/step - loss: 0.0017 - accuracy: 0.9990\n",
      "Epoch 41/100\n",
      "184/184 [==============================] - 1s 5ms/step - loss: 0.0018 - accuracy: 0.9990\n",
      "Epoch 42/100\n",
      "184/184 [==============================] - 1s 5ms/step - loss: 0.0017 - accuracy: 0.9990\n",
      "Epoch 43/100\n",
      "184/184 [==============================] - 1s 5ms/step - loss: 0.0017 - accuracy: 0.9991\n",
      "Epoch 44/100\n",
      "184/184 [==============================] - 1s 5ms/step - loss: 0.0017 - accuracy: 0.9991\n",
      "Epoch 45/100\n",
      "184/184 [==============================] - 1s 5ms/step - loss: 0.0017 - accuracy: 0.9993\n",
      "Epoch 46/100\n",
      "184/184 [==============================] - 1s 5ms/step - loss: 0.0018 - accuracy: 0.9993\n",
      "Epoch 47/100\n",
      "184/184 [==============================] - 1s 5ms/step - loss: 0.0034 - accuracy: 0.9990\n",
      "Epoch 48/100\n",
      "184/184 [==============================] - 1s 5ms/step - loss: 0.1112 - accuracy: 0.9824\n",
      "Epoch 49/100\n",
      "184/184 [==============================] - 1s 5ms/step - loss: 0.1881 - accuracy: 0.9833\n",
      "Epoch 50/100\n",
      "184/184 [==============================] - 1s 5ms/step - loss: 0.0835 - accuracy: 0.9911\n",
      "Epoch 51/100\n",
      "184/184 [==============================] - 1s 5ms/step - loss: 0.0723 - accuracy: 0.9937\n",
      "Epoch 52/100\n",
      "184/184 [==============================] - 1s 5ms/step - loss: 0.0480 - accuracy: 0.9939\n",
      "Epoch 53/100\n",
      "184/184 [==============================] - 1s 5ms/step - loss: 0.0058 - accuracy: 0.9976\n",
      "Epoch 54/100\n",
      "184/184 [==============================] - 1s 5ms/step - loss: 0.0265 - accuracy: 0.9964\n",
      "Epoch 55/100\n",
      "184/184 [==============================] - 1s 5ms/step - loss: 0.0175 - accuracy: 0.9976\n",
      "Epoch 56/100\n",
      "184/184 [==============================] - 1s 5ms/step - loss: 0.0043 - accuracy: 0.9985\n",
      "Epoch 57/100\n",
      "184/184 [==============================] - 1s 5ms/step - loss: 0.0032 - accuracy: 0.9986\n",
      "Epoch 58/100\n",
      "184/184 [==============================] - 1s 5ms/step - loss: 0.0029 - accuracy: 0.9986\n",
      "Epoch 59/100\n",
      "184/184 [==============================] - 1s 5ms/step - loss: 0.0031 - accuracy: 0.9986\n",
      "Epoch 60/100\n",
      "184/184 [==============================] - 1s 5ms/step - loss: 0.0037 - accuracy: 0.9985\n",
      "Epoch 61/100\n",
      "184/184 [==============================] - 1s 5ms/step - loss: 0.0030 - accuracy: 0.9985\n",
      "Epoch 62/100\n",
      "184/184 [==============================] - 1s 5ms/step - loss: 0.0036 - accuracy: 0.9985\n",
      "Epoch 63/100\n",
      "184/184 [==============================] - 1s 5ms/step - loss: 0.0036 - accuracy: 0.9986\n",
      "Epoch 64/100\n",
      "184/184 [==============================] - 1s 5ms/step - loss: 0.0031 - accuracy: 0.9985\n",
      "Epoch 65/100\n",
      "184/184 [==============================] - 1s 5ms/step - loss: 0.0028 - accuracy: 0.9986\n",
      "Epoch 66/100\n",
      "184/184 [==============================] - 1s 5ms/step - loss: 0.0032 - accuracy: 0.9985\n",
      "Epoch 67/100\n",
      "184/184 [==============================] - 1s 5ms/step - loss: 0.0048 - accuracy: 0.9983\n",
      "Epoch 68/100\n",
      "184/184 [==============================] - 1s 5ms/step - loss: 0.0078 - accuracy: 0.9973\n",
      "Epoch 69/100\n",
      "184/184 [==============================] - 1s 5ms/step - loss: 0.0036 - accuracy: 0.9990\n",
      "Epoch 70/100\n",
      "184/184 [==============================] - 1s 5ms/step - loss: 0.0028 - accuracy: 0.9991\n",
      "Epoch 71/100\n",
      "184/184 [==============================] - 1s 6ms/step - loss: 0.0027 - accuracy: 0.9991\n",
      "Epoch 72/100\n",
      "184/184 [==============================] - 1s 5ms/step - loss: 0.0028 - accuracy: 0.9991\n",
      "Epoch 73/100\n",
      "184/184 [==============================] - 1s 5ms/step - loss: 0.0049 - accuracy: 0.9985\n",
      "Epoch 74/100\n",
      "184/184 [==============================] - 1s 5ms/step - loss: 0.0037 - accuracy: 0.9988\n",
      "Epoch 75/100\n",
      "184/184 [==============================] - 1s 5ms/step - loss: 0.0082 - accuracy: 0.9980\n",
      "Epoch 76/100\n",
      "184/184 [==============================] - 1s 5ms/step - loss: 0.0967 - accuracy: 0.9879\n",
      "Epoch 77/100\n",
      "184/184 [==============================] - 1s 5ms/step - loss: 0.0718 - accuracy: 0.9882\n",
      "Epoch 78/100\n",
      "184/184 [==============================] - 1s 5ms/step - loss: 0.0499 - accuracy: 0.9964\n",
      "Epoch 79/100\n",
      "184/184 [==============================] - 1s 5ms/step - loss: 0.0121 - accuracy: 0.9969\n",
      "Epoch 80/100\n",
      "184/184 [==============================] - 1s 5ms/step - loss: 0.0073 - accuracy: 0.9980\n",
      "Epoch 81/100\n",
      "184/184 [==============================] - 1s 5ms/step - loss: 0.0043 - accuracy: 0.9980\n",
      "Epoch 82/100\n",
      "184/184 [==============================] - 1s 5ms/step - loss: 0.0034 - accuracy: 0.9981\n",
      "Epoch 83/100\n",
      "184/184 [==============================] - 1s 5ms/step - loss: 0.0030 - accuracy: 0.9985\n",
      "Epoch 84/100\n",
      "184/184 [==============================] - 1s 5ms/step - loss: 0.0039 - accuracy: 0.9985\n",
      "Epoch 85/100\n",
      "184/184 [==============================] - 1s 5ms/step - loss: 0.0031 - accuracy: 0.9983\n",
      "Epoch 86/100\n",
      "184/184 [==============================] - 1s 5ms/step - loss: 0.0030 - accuracy: 0.9983\n",
      "Epoch 87/100\n",
      "184/184 [==============================] - 1s 5ms/step - loss: 0.0029 - accuracy: 0.9985\n",
      "Epoch 88/100\n",
      "184/184 [==============================] - 1s 5ms/step - loss: 0.0052 - accuracy: 0.9983\n",
      "Epoch 89/100\n",
      "184/184 [==============================] - 1s 5ms/step - loss: 0.0070 - accuracy: 0.9981\n",
      "Epoch 90/100\n",
      "184/184 [==============================] - 1s 5ms/step - loss: 0.0066 - accuracy: 0.9983\n",
      "Epoch 91/100\n",
      "184/184 [==============================] - 1s 5ms/step - loss: 0.0026 - accuracy: 0.9991\n",
      "Epoch 92/100\n",
      "184/184 [==============================] - 1s 5ms/step - loss: 0.0023 - accuracy: 0.9991\n",
      "Epoch 93/100\n",
      "184/184 [==============================] - 1s 5ms/step - loss: 0.0021 - accuracy: 0.9991\n",
      "Epoch 94/100\n",
      "184/184 [==============================] - 1s 5ms/step - loss: 0.0020 - accuracy: 0.9991\n",
      "Epoch 95/100\n",
      "184/184 [==============================] - 1s 5ms/step - loss: 0.0020 - accuracy: 0.9991\n",
      "Epoch 96/100\n",
      "184/184 [==============================] - 1s 5ms/step - loss: 0.0019 - accuracy: 0.9991\n",
      "Epoch 97/100\n",
      "184/184 [==============================] - 1s 5ms/step - loss: 0.0018 - accuracy: 0.9993\n",
      "Epoch 98/100\n",
      "184/184 [==============================] - 1s 5ms/step - loss: 0.0175 - accuracy: 0.9962\n",
      "Epoch 99/100\n",
      "184/184 [==============================] - 1s 5ms/step - loss: 0.0106 - accuracy: 0.9978\n",
      "Epoch 100/100\n",
      "184/184 [==============================] - 1s 5ms/step - loss: 0.0093 - accuracy: 0.9978\n",
      "[0.944918155670166, 0.9689631462097168, 0.9873806238174438, 0.9913028478622437, 0.9952251315116882, 0.9965893626213074, 0.9971009492874146, 0.9979535937309265, 0.9972714781761169, 0.9971009492874146, 0.9962483048439026, 0.9933492541313171, 0.9960777759552002, 0.9982946515083313, 0.9988062977790833, 0.9989768266677856, 0.9989768266677856, 0.999147355556488, 0.9988062977790833, 0.999147355556488, 0.9993178844451904, 0.999147355556488, 0.9940313696861267, 0.9901091456413269, 0.99283766746521, 0.996418833732605, 0.9972714781761169, 0.9989768266677856, 0.9989768266677856, 0.9989768266677856, 0.999147355556488, 0.9988062977790833, 0.999147355556488, 0.999147355556488, 0.999147355556488, 0.9989768266677856, 0.9989768266677856, 0.999147355556488, 0.999147355556488, 0.9989768266677856, 0.9989768266677856, 0.9989768266677856, 0.999147355556488, 0.999147355556488, 0.9993178844451904, 0.9993178844451904, 0.9989768266677856, 0.9824352264404297, 0.9832878708839417, 0.9911323189735413, 0.9936903119087219, 0.9938608407974243, 0.9976125359535217, 0.996418833732605, 0.9976125359535217, 0.9984652400016785, 0.9986357688903809, 0.9986357688903809, 0.9986357688903809, 0.9984652400016785, 0.9984652400016785, 0.9984652400016785, 0.9986357688903809, 0.9984652400016785, 0.9986357688903809, 0.9984652400016785, 0.9982946515083313, 0.9972714781761169, 0.9989768266677856, 0.999147355556488, 0.999147355556488, 0.999147355556488, 0.9984652400016785, 0.9988062977790833, 0.9979535937309265, 0.987892210483551, 0.9882332682609558, 0.996418833732605, 0.9969304203987122, 0.9979535937309265, 0.9979535937309265, 0.9981241226196289, 0.9984652400016785, 0.9984652400016785, 0.9982946515083313, 0.9982946515083313, 0.9984652400016785, 0.9982946515083313, 0.9981241226196289, 0.9982946515083313, 0.999147355556488, 0.999147355556488, 0.999147355556488, 0.999147355556488, 0.999147355556488, 0.999147355556488, 0.9993178844451904, 0.9962483048439026, 0.9977830648422241, 0.9977830648422241]\n",
      "46/46 [==============================] - 0s 7ms/step - loss: 1.0417 - accuracy: 0.9393\n",
      "184/184 [==============================] - 26s 141ms/step\n",
      "46/46 [==============================] - 7s 144ms/step\n",
      "Epoch 1/100\n",
      "184/184 [==============================] - 1s 5ms/step - loss: 0.1828 - accuracy: 0.9736\n",
      "Epoch 2/100\n",
      "184/184 [==============================] - 1s 4ms/step - loss: 0.1588 - accuracy: 0.9807\n",
      "Epoch 3/100\n",
      "184/184 [==============================] - 1s 4ms/step - loss: 0.0571 - accuracy: 0.9916\n",
      "Epoch 4/100\n",
      "184/184 [==============================] - 1s 4ms/step - loss: 0.0512 - accuracy: 0.9920\n",
      "Epoch 5/100\n",
      "184/184 [==============================] - 1s 4ms/step - loss: 0.0340 - accuracy: 0.9940\n",
      "Epoch 6/100\n",
      "184/184 [==============================] - 1s 5ms/step - loss: 0.0233 - accuracy: 0.9956\n",
      "Epoch 7/100\n",
      "184/184 [==============================] - 1s 5ms/step - loss: 0.0087 - accuracy: 0.9968\n",
      "Epoch 8/100\n",
      "184/184 [==============================] - 1s 7ms/step - loss: 0.0071 - accuracy: 0.9969\n",
      "Epoch 9/100\n",
      "184/184 [==============================] - 1s 5ms/step - loss: 0.0065 - accuracy: 0.9969\n",
      "Epoch 10/100\n",
      "184/184 [==============================] - 1s 5ms/step - loss: 0.0064 - accuracy: 0.9969\n",
      "Epoch 11/100\n",
      "184/184 [==============================] - 1s 5ms/step - loss: 0.0063 - accuracy: 0.9968\n",
      "Epoch 12/100\n",
      "184/184 [==============================] - 1s 5ms/step - loss: 0.0063 - accuracy: 0.9968\n",
      "Epoch 13/100\n",
      "184/184 [==============================] - 1s 5ms/step - loss: 0.0061 - accuracy: 0.9969\n",
      "Epoch 14/100\n",
      "184/184 [==============================] - 1s 5ms/step - loss: 0.0063 - accuracy: 0.9968\n",
      "Epoch 15/100\n",
      "184/184 [==============================] - 1s 5ms/step - loss: 0.0060 - accuracy: 0.9971\n",
      "Epoch 16/100\n",
      "184/184 [==============================] - 1s 5ms/step - loss: 0.0049 - accuracy: 0.9976\n",
      "Epoch 17/100\n",
      "184/184 [==============================] - 1s 5ms/step - loss: 0.0131 - accuracy: 0.9961\n",
      "Epoch 18/100\n",
      "184/184 [==============================] - 1s 5ms/step - loss: 0.0395 - accuracy: 0.9962\n",
      "Epoch 19/100\n",
      "184/184 [==============================] - 1s 5ms/step - loss: 0.0231 - accuracy: 0.9947\n",
      "Epoch 20/100\n",
      "184/184 [==============================] - 1s 5ms/step - loss: 0.0089 - accuracy: 0.9971\n",
      "Epoch 21/100\n",
      "184/184 [==============================] - 1s 5ms/step - loss: 0.0105 - accuracy: 0.9964\n",
      "Epoch 22/100\n",
      "184/184 [==============================] - 1s 5ms/step - loss: 0.0141 - accuracy: 0.9971\n",
      "Epoch 23/100\n",
      "184/184 [==============================] - 1s 5ms/step - loss: 0.0168 - accuracy: 0.9961\n",
      "Epoch 24/100\n",
      "184/184 [==============================] - 1s 5ms/step - loss: 0.0621 - accuracy: 0.9927\n",
      "Epoch 25/100\n",
      "184/184 [==============================] - 1s 5ms/step - loss: 0.0189 - accuracy: 0.9961\n",
      "Epoch 26/100\n",
      "184/184 [==============================] - 1s 5ms/step - loss: 0.0042 - accuracy: 0.9978\n",
      "Epoch 27/100\n",
      "184/184 [==============================] - 1s 5ms/step - loss: 0.0048 - accuracy: 0.9981\n",
      "Epoch 28/100\n",
      "184/184 [==============================] - 1s 5ms/step - loss: 0.0034 - accuracy: 0.9985\n",
      "Epoch 29/100\n",
      "184/184 [==============================] - 1s 5ms/step - loss: 0.0033 - accuracy: 0.9985\n",
      "Epoch 30/100\n",
      "184/184 [==============================] - 1s 5ms/step - loss: 0.0032 - accuracy: 0.9985\n",
      "Epoch 31/100\n",
      "184/184 [==============================] - 1s 5ms/step - loss: 0.0032 - accuracy: 0.9985\n",
      "Epoch 32/100\n",
      "184/184 [==============================] - 1s 5ms/step - loss: 0.0032 - accuracy: 0.9985\n",
      "Epoch 33/100\n",
      "184/184 [==============================] - 1s 5ms/step - loss: 0.0033 - accuracy: 0.9985\n",
      "Epoch 34/100\n",
      "184/184 [==============================] - 1s 5ms/step - loss: 0.0041 - accuracy: 0.9981\n",
      "Epoch 35/100\n",
      "184/184 [==============================] - 1s 5ms/step - loss: 0.0362 - accuracy: 0.9928\n",
      "Epoch 36/100\n",
      "184/184 [==============================] - 1s 5ms/step - loss: 0.0382 - accuracy: 0.9949\n",
      "Epoch 37/100\n",
      "184/184 [==============================] - 1s 5ms/step - loss: 0.0146 - accuracy: 0.9971\n",
      "Epoch 38/100\n",
      "184/184 [==============================] - 1s 5ms/step - loss: 0.0239 - accuracy: 0.9961\n",
      "Epoch 39/100\n",
      "184/184 [==============================] - 1s 5ms/step - loss: 0.0096 - accuracy: 0.9969\n",
      "Epoch 40/100\n",
      "184/184 [==============================] - 1s 5ms/step - loss: 0.0343 - accuracy: 0.9976\n",
      "Epoch 41/100\n",
      "184/184 [==============================] - 1s 5ms/step - loss: 0.0215 - accuracy: 0.9968\n",
      "Epoch 42/100\n",
      "184/184 [==============================] - 1s 5ms/step - loss: 0.0129 - accuracy: 0.9966\n",
      "Epoch 43/100\n",
      "184/184 [==============================] - 1s 6ms/step - loss: 0.0125 - accuracy: 0.9969\n",
      "Epoch 44/100\n",
      "184/184 [==============================] - 1s 6ms/step - loss: 0.0035 - accuracy: 0.9985\n",
      "Epoch 45/100\n",
      "184/184 [==============================] - 1s 5ms/step - loss: 0.0033 - accuracy: 0.9985\n",
      "Epoch 46/100\n",
      "184/184 [==============================] - 1s 5ms/step - loss: 0.0032 - accuracy: 0.9985\n",
      "Epoch 47/100\n",
      "184/184 [==============================] - 1s 5ms/step - loss: 0.0032 - accuracy: 0.9983\n",
      "Epoch 48/100\n",
      "184/184 [==============================] - 1s 5ms/step - loss: 0.0032 - accuracy: 0.9985\n",
      "Epoch 49/100\n",
      "184/184 [==============================] - 1s 5ms/step - loss: 0.0032 - accuracy: 0.9985\n",
      "Epoch 50/100\n",
      "184/184 [==============================] - 1s 5ms/step - loss: 0.0032 - accuracy: 0.9985\n",
      "Epoch 51/100\n",
      "184/184 [==============================] - 1s 5ms/step - loss: 0.0032 - accuracy: 0.9981\n",
      "Epoch 52/100\n",
      "184/184 [==============================] - 1s 5ms/step - loss: 0.0030 - accuracy: 0.9985\n",
      "Epoch 53/100\n",
      "184/184 [==============================] - 1s 5ms/step - loss: 0.0041 - accuracy: 0.9983\n",
      "Epoch 54/100\n",
      "184/184 [==============================] - 1s 5ms/step - loss: 0.0032 - accuracy: 0.9981\n",
      "Epoch 55/100\n",
      "184/184 [==============================] - 1s 5ms/step - loss: 0.0032 - accuracy: 0.9983\n",
      "Epoch 56/100\n",
      "184/184 [==============================] - 1s 5ms/step - loss: 0.0032 - accuracy: 0.9983\n",
      "Epoch 57/100\n",
      "184/184 [==============================] - 1s 5ms/step - loss: 0.0031 - accuracy: 0.9980\n",
      "Epoch 58/100\n",
      "184/184 [==============================] - 1s 5ms/step - loss: 0.0031 - accuracy: 0.9978\n",
      "Epoch 59/100\n",
      "184/184 [==============================] - 1s 5ms/step - loss: 0.0031 - accuracy: 0.9985\n",
      "Epoch 60/100\n",
      "184/184 [==============================] - 1s 5ms/step - loss: 0.0031 - accuracy: 0.9980\n",
      "Epoch 61/100\n",
      "184/184 [==============================] - 1s 5ms/step - loss: 0.0031 - accuracy: 0.9980\n",
      "Epoch 62/100\n",
      "184/184 [==============================] - 1s 5ms/step - loss: 0.0031 - accuracy: 0.9981\n",
      "Epoch 63/100\n",
      "184/184 [==============================] - 1s 5ms/step - loss: 0.0031 - accuracy: 0.9985\n",
      "Epoch 64/100\n",
      "184/184 [==============================] - 1s 5ms/step - loss: 0.0031 - accuracy: 0.9981\n",
      "Epoch 65/100\n",
      "184/184 [==============================] - 1s 5ms/step - loss: 0.0031 - accuracy: 0.9980\n",
      "Epoch 66/100\n",
      "184/184 [==============================] - 1s 5ms/step - loss: 0.0031 - accuracy: 0.9981\n",
      "Epoch 67/100\n",
      "184/184 [==============================] - 1s 5ms/step - loss: 0.0031 - accuracy: 0.9985\n",
      "Epoch 68/100\n",
      "184/184 [==============================] - 1s 5ms/step - loss: 0.0031 - accuracy: 0.9983\n",
      "Epoch 69/100\n",
      "184/184 [==============================] - 1s 5ms/step - loss: 0.0031 - accuracy: 0.9978\n",
      "Epoch 70/100\n",
      "184/184 [==============================] - 1s 5ms/step - loss: 0.0031 - accuracy: 0.9983\n",
      "Epoch 71/100\n",
      "184/184 [==============================] - 1s 5ms/step - loss: 0.0031 - accuracy: 0.9985\n",
      "Epoch 72/100\n",
      "184/184 [==============================] - 1s 5ms/step - loss: 0.0031 - accuracy: 0.9981\n",
      "Epoch 73/100\n",
      "184/184 [==============================] - 1s 5ms/step - loss: 0.0031 - accuracy: 0.9983\n",
      "Epoch 74/100\n",
      "184/184 [==============================] - 1s 5ms/step - loss: 0.0031 - accuracy: 0.9981\n",
      "Epoch 75/100\n",
      "184/184 [==============================] - 1s 5ms/step - loss: 0.0031 - accuracy: 0.9983\n",
      "Epoch 76/100\n",
      "184/184 [==============================] - 1s 5ms/step - loss: 0.0031 - accuracy: 0.9985\n",
      "Epoch 77/100\n",
      "184/184 [==============================] - 1s 5ms/step - loss: 0.0031 - accuracy: 0.9985\n",
      "Epoch 78/100\n",
      "184/184 [==============================] - 1s 5ms/step - loss: 0.0031 - accuracy: 0.9983\n",
      "Epoch 79/100\n",
      "184/184 [==============================] - 1s 6ms/step - loss: 0.0031 - accuracy: 0.9985\n",
      "Epoch 80/100\n",
      "184/184 [==============================] - 1s 5ms/step - loss: 0.0031 - accuracy: 0.9983\n",
      "Epoch 81/100\n",
      "184/184 [==============================] - 1s 5ms/step - loss: 0.0031 - accuracy: 0.9980\n",
      "Epoch 82/100\n",
      "184/184 [==============================] - 1s 5ms/step - loss: 0.0031 - accuracy: 0.9980\n",
      "Epoch 83/100\n",
      "184/184 [==============================] - 1s 5ms/step - loss: 0.0031 - accuracy: 0.9981\n",
      "Epoch 84/100\n",
      "184/184 [==============================] - 1s 5ms/step - loss: 0.0031 - accuracy: 0.9983\n",
      "Epoch 85/100\n",
      "184/184 [==============================] - 1s 5ms/step - loss: 0.0031 - accuracy: 0.9981\n",
      "Epoch 86/100\n",
      "184/184 [==============================] - 1s 5ms/step - loss: 0.0031 - accuracy: 0.9981\n",
      "Epoch 87/100\n",
      "184/184 [==============================] - 1s 5ms/step - loss: 0.0031 - accuracy: 0.9983\n",
      "Epoch 88/100\n",
      "184/184 [==============================] - 1s 5ms/step - loss: 0.0031 - accuracy: 0.9980\n",
      "Epoch 89/100\n",
      "184/184 [==============================] - 1s 5ms/step - loss: 0.0030 - accuracy: 0.9981\n",
      "Epoch 90/100\n",
      "184/184 [==============================] - 1s 5ms/step - loss: 0.0030 - accuracy: 0.9980\n",
      "Epoch 91/100\n",
      "184/184 [==============================] - 1s 5ms/step - loss: 0.0030 - accuracy: 0.9981\n",
      "Epoch 92/100\n",
      "184/184 [==============================] - 1s 5ms/step - loss: 0.0030 - accuracy: 0.9985\n",
      "Epoch 93/100\n",
      "184/184 [==============================] - 1s 5ms/step - loss: 0.0030 - accuracy: 0.9981\n",
      "Epoch 94/100\n",
      "184/184 [==============================] - 1s 5ms/step - loss: 0.0030 - accuracy: 0.9981\n",
      "Epoch 95/100\n",
      "184/184 [==============================] - 1s 5ms/step - loss: 0.0030 - accuracy: 0.9978\n",
      "Epoch 96/100\n",
      "184/184 [==============================] - 1s 5ms/step - loss: 0.0030 - accuracy: 0.9983\n",
      "Epoch 97/100\n",
      "184/184 [==============================] - 1s 5ms/step - loss: 0.0030 - accuracy: 0.9981\n",
      "Epoch 98/100\n",
      "184/184 [==============================] - 1s 5ms/step - loss: 0.0030 - accuracy: 0.9981\n",
      "Epoch 99/100\n",
      "184/184 [==============================] - 1s 5ms/step - loss: 0.0030 - accuracy: 0.9980\n",
      "Epoch 100/100\n",
      "184/184 [==============================] - 1s 5ms/step - loss: 0.0030 - accuracy: 0.9983\n",
      "[0.973567545413971, 0.980729877948761, 0.9916439056396484, 0.9919849634170532, 0.9940313696861267, 0.995566189289093, 0.9967598915100098, 0.9969304203987122, 0.9969304203987122, 0.9969304203987122, 0.9967598915100098, 0.9967598915100098, 0.9969304203987122, 0.9967598915100098, 0.9971009492874146, 0.9976125359535217, 0.9960777759552002, 0.9962483048439026, 0.9947134852409363, 0.9971009492874146, 0.996418833732605, 0.9971009492874146, 0.9960777759552002, 0.9926671385765076, 0.9960777759552002, 0.9977830648422241, 0.9981241226196289, 0.9984652400016785, 0.9984652400016785, 0.9984652400016785, 0.9984652400016785, 0.9984652400016785, 0.9984652400016785, 0.9981241226196289, 0.99283766746521, 0.9948840141296387, 0.9971009492874146, 0.9960777759552002, 0.9969304203987122, 0.9976125359535217, 0.9967598915100098, 0.9965893626213074, 0.9969304203987122, 0.9984652400016785, 0.9984652400016785, 0.9984652400016785, 0.9982946515083313, 0.9984652400016785, 0.9984652400016785, 0.9984652400016785, 0.9981241226196289, 0.9984652400016785, 0.9982946515083313, 0.9981241226196289, 0.9982946515083313, 0.9982946515083313, 0.9979535937309265, 0.9977830648422241, 0.9984652400016785, 0.9979535937309265, 0.9979535937309265, 0.9981241226196289, 0.9984652400016785, 0.9981241226196289, 0.9979535937309265, 0.9981241226196289, 0.9984652400016785, 0.9982946515083313, 0.9977830648422241, 0.9982946515083313, 0.9984652400016785, 0.9981241226196289, 0.9982946515083313, 0.9981241226196289, 0.9982946515083313, 0.9984652400016785, 0.9984652400016785, 0.9982946515083313, 0.9984652400016785, 0.9982946515083313, 0.9979535937309265, 0.9979535937309265, 0.9981241226196289, 0.9982946515083313, 0.9981241226196289, 0.9981241226196289, 0.9982946515083313, 0.9979535937309265, 0.9981241226196289, 0.9979535937309265, 0.9981241226196289, 0.9984652400016785, 0.9981241226196289, 0.9981241226196289, 0.9977830648422241, 0.9982946515083313, 0.9981241226196289, 0.9981241226196289, 0.9979535937309265, 0.9982946515083313]\n",
      "46/46 [==============================] - 0s 5ms/step - loss: 0.5139 - accuracy: 0.9809\n"
     ]
    }
   ],
   "source": [
    "\n",
    "for i in range(3): \n",
    "    x_train,x_test, y_train, y_test=train_test_split(data, label, test_size=0.2,random_state = np.random.randint(1,1000, 1)[0])\n",
    "    # let's make all layers non-trainable\n",
    "    for layer in vgg_model.layers :\n",
    "        layer.trainable = False\n",
    "    features_train=vgg_model.predict(x_train)\n",
    "    features_test=vgg_model.predict(x_test)\n",
    "    #features_train.shape\n",
    "    num_train=x_train.shape[0]\n",
    "    num_test=x_test.shape[0]\n",
    "    x_test=features_test.reshape(num_test,-1)\n",
    "    x_train=features_train.reshape(num_train,-1)\n",
    "    #x_train,x_valid,y_train,y_valid= train_test_split(x_train, y_train, test_size=0.1,random_state = np.random.randint(1,1000, 1)[0]) \n",
    "    history=model.fit(x_train,y_train,epochs=100,batch_size=32,verbose=1) \n",
    "    #printing the train Accuracy\n",
    "    print(history.history['accuracy']) \n",
    "\n",
    "    model.evaluate(x_test,y_test)"
   ]
  },
  {
   "cell_type": "markdown",
   "id": "96e12e15",
   "metadata": {
    "papermill": {
     "duration": 0.413974,
     "end_time": "2023-04-16T17:36:10.603327",
     "exception": false,
     "start_time": "2023-04-16T17:36:10.189353",
     "status": "completed"
    },
    "tags": []
   },
   "source": []
  },
  {
   "cell_type": "markdown",
   "id": "4ea37a9a",
   "metadata": {
    "papermill": {
     "duration": 0.354622,
     "end_time": "2023-04-16T17:36:11.328389",
     "exception": false,
     "start_time": "2023-04-16T17:36:10.973767",
     "status": "completed"
    },
    "tags": []
   },
   "source": [
    "**#finding the precision and recall for the given model!!\n",
    "**"
   ]
  },
  {
   "cell_type": "markdown",
   "id": "4be58d82",
   "metadata": {
    "papermill": {
     "duration": 0.406043,
     "end_time": "2023-04-16T17:36:12.101104",
     "exception": false,
     "start_time": "2023-04-16T17:36:11.695061",
     "status": "completed"
    },
    "tags": []
   },
   "source": []
  },
  {
   "cell_type": "markdown",
   "id": "8fcbcb82",
   "metadata": {
    "papermill": {
     "duration": 0.365418,
     "end_time": "2023-04-16T17:36:12.829173",
     "exception": false,
     "start_time": "2023-04-16T17:36:12.463755",
     "status": "completed"
    },
    "tags": []
   },
   "source": [
    "# #Printing the report****"
   ]
  },
  {
   "cell_type": "code",
   "execution_count": 34,
   "id": "4ec2899e",
   "metadata": {
    "execution": {
     "iopub.execute_input": "2023-04-16T17:36:13.566825Z",
     "iopub.status.busy": "2023-04-16T17:36:13.565822Z",
     "iopub.status.idle": "2023-04-16T17:36:14.135980Z",
     "shell.execute_reply": "2023-04-16T17:36:14.134658Z"
    },
    "papermill": {
     "duration": 0.949848,
     "end_time": "2023-04-16T17:36:14.138613",
     "exception": false,
     "start_time": "2023-04-16T17:36:13.188765",
     "status": "completed"
    },
    "tags": []
   },
   "outputs": [
    {
     "name": "stdout",
     "output_type": "stream",
     "text": [
      "46/46 [==============================] - 0s 3ms/step\n",
      "              precision    recall  f1-score   support\n",
      "\n",
      "           0       0.98      0.99      0.99       224\n",
      "           1       1.00      0.97      0.99       159\n",
      "           2       1.00      1.00      1.00       315\n",
      "           3       0.96      0.98      0.97       263\n",
      "           4       1.00      0.97      0.99       246\n",
      "           5       0.96      0.97      0.96       259\n",
      "\n",
      "    accuracy                           0.98      1466\n",
      "   macro avg       0.98      0.98      0.98      1466\n",
      "weighted avg       0.98      0.98      0.98      1466\n",
      "\n"
     ]
    }
   ],
   "source": [
    "from sklearn.metrics import classification_report\n",
    "\n",
    "# Make predictions on test data\n",
    "y_pred = model.predict(x_test)\n",
    "\n",
    "# Convert predicted and true labels to binary (0/1) format\n",
    "y_pred = np.argmax(y_pred, axis=1)\n",
    "y_true = np.argmax(y_test, axis=1)\n",
    "\n",
    "# Calculate precision, recall, and F1-score\n",
    "report = classification_report(y_true, y_pred)\n",
    "print(report)"
   ]
  },
  {
   "cell_type": "code",
   "execution_count": 35,
   "id": "23b2b9ff",
   "metadata": {
    "execution": {
     "iopub.execute_input": "2023-04-16T17:36:14.911070Z",
     "iopub.status.busy": "2023-04-16T17:36:14.910332Z",
     "iopub.status.idle": "2023-04-16T17:36:15.041607Z",
     "shell.execute_reply": "2023-04-16T17:36:15.040586Z"
    },
    "papermill": {
     "duration": 0.496077,
     "end_time": "2023-04-16T17:36:15.044466",
     "exception": false,
     "start_time": "2023-04-16T17:36:14.548389",
     "status": "completed"
    },
    "tags": []
   },
   "outputs": [],
   "source": [
    "\n",
    "model.save('6claass.h5')"
   ]
  },
  {
   "cell_type": "code",
   "execution_count": 36,
   "id": "22f22ee7",
   "metadata": {
    "execution": {
     "iopub.execute_input": "2023-04-16T17:36:15.756916Z",
     "iopub.status.busy": "2023-04-16T17:36:15.756177Z",
     "iopub.status.idle": "2023-04-16T17:36:17.961055Z",
     "shell.execute_reply": "2023-04-16T17:36:17.959955Z"
    },
    "papermill": {
     "duration": 2.563094,
     "end_time": "2023-04-16T17:36:17.963207",
     "exception": false,
     "start_time": "2023-04-16T17:36:15.400113",
     "status": "completed"
    },
    "tags": []
   },
   "outputs": [
    {
     "name": "stdout",
     "output_type": "stream",
     "text": [
      "Downloading data from https://storage.googleapis.com/tensorflow/keras-applications/vgg16/vgg16_weights_tf_dim_ordering_tf_kernels_notop.h5\n",
      "58889256/58889256 [==============================] - 0s 0us/step\n",
      "1/1 [==============================] - 1s 906ms/step\n",
      "1/1 [==============================] - 0s 61ms/step\n",
      "Predicted class: Acne and Rosacea Photos\n"
     ]
    }
   ],
   "source": [
    "from keras.models import load_model\n",
    "from keras.applications.vgg16 import preprocess_input\n",
    "from PIL import Image\n",
    "import numpy as np\n",
    "\n",
    "# load the saved model\n",
    "model = load_model('/kaggle/working/6claass.h5')\n",
    "\n",
    "# load the image and preprocess it\n",
    "img = Image.open('/kaggle/input/imagetest/acne.jpg') # replace with the correct image path\n",
    "img = img.resize((224,224)) # resize to the input shape of the model\n",
    "img_array = np.array(img)\n",
    "img_array = img_array.astype('float32')\n",
    "img_array = preprocess_input(img_array) # preprocess using the VGG16 preprocessing function\n",
    "img_array = np.expand_dims(img_array, axis=0)\n",
    "\n",
    "# extract features using the VGG16 model\n",
    "vgg_model = keras.applications.vgg16.VGG16(include_top=False, weights='imagenet')\n",
    "features = vgg_model.predict(img_array)\n",
    "features = features.reshape(features.shape[0], -1)\n",
    "\n",
    "# predict the output\n",
    "predictions = model.predict(features)\n",
    "\n",
    "# interpret the output\n",
    "class_names = ['Acne and Rosacea Photos',\n",
    " 'Normal',\n",
    " 'vitiligo',\n",
    " 'Tinea Ringworm Candidiasis and other Fungal Infections',\n",
    "     'Melanoma Skin Cancer Nevi and Moles',\n",
    " 'Eczema Photos']\n",
    "predicted_class_index = np.argmax(predictions)\n",
    "predicted_class_name = class_names[predicted_class_index]\n",
    "print('Predicted class:', predicted_class_name)\n"
   ]
  },
  {
   "cell_type": "code",
   "execution_count": 37,
   "id": "2531cef4",
   "metadata": {
    "execution": {
     "iopub.execute_input": "2023-04-16T17:36:18.732696Z",
     "iopub.status.busy": "2023-04-16T17:36:18.731742Z",
     "iopub.status.idle": "2023-04-16T17:36:19.309489Z",
     "shell.execute_reply": "2023-04-16T17:36:19.307996Z"
    },
    "papermill": {
     "duration": 0.936456,
     "end_time": "2023-04-16T17:36:19.310968",
     "exception": true,
     "start_time": "2023-04-16T17:36:18.374512",
     "status": "failed"
    },
    "tags": []
   },
   "outputs": [
    {
     "name": "stderr",
     "output_type": "stream",
     "text": [
      "[ WARN:0] global /tmp/pip-req-build-jpmv6t9_/opencv/modules/videoio/src/cap_v4l.cpp (890) open VIDEOIO(V4L2:/dev/video0): can't open camera by index\n"
     ]
    },
    {
     "ename": "error",
     "evalue": "OpenCV(4.5.4) /tmp/pip-req-build-jpmv6t9_/opencv/modules/highgui/src/window.cpp:1268: error: (-2:Unspecified error) The function is not implemented. Rebuild the library with Windows, GTK+ 2.x or Cocoa support. If you are on Ubuntu or Debian, install libgtk2.0-dev and pkg-config, then re-run cmake or configure script in function 'cvDestroyAllWindows'\n",
     "output_type": "error",
     "traceback": [
      "\u001b[0;31m---------------------------------------------------------------------------\u001b[0m",
      "\u001b[0;31merror\u001b[0m                                     Traceback (most recent call last)",
      "\u001b[0;32m/tmp/ipykernel_23/1373367284.py\u001b[0m in \u001b[0;36m<module>\u001b[0;34m\u001b[0m\n\u001b[1;32m     56\u001b[0m \u001b[0;34m\u001b[0m\u001b[0m\n\u001b[1;32m     57\u001b[0m \u001b[0;31m# Start the live classification\u001b[0m\u001b[0;34m\u001b[0m\u001b[0;34m\u001b[0m\u001b[0;34m\u001b[0m\u001b[0m\n\u001b[0;32m---> 58\u001b[0;31m \u001b[0mlive_classification\u001b[0m\u001b[0;34m(\u001b[0m\u001b[0;34m)\u001b[0m\u001b[0;34m\u001b[0m\u001b[0;34m\u001b[0m\u001b[0m\n\u001b[0m",
      "\u001b[0;32m/tmp/ipykernel_23/1373367284.py\u001b[0m in \u001b[0;36mlive_classification\u001b[0;34m()\u001b[0m\n\u001b[1;32m     53\u001b[0m     \u001b[0;31m# Release the camera and close all windows\u001b[0m\u001b[0;34m\u001b[0m\u001b[0;34m\u001b[0m\u001b[0;34m\u001b[0m\u001b[0m\n\u001b[1;32m     54\u001b[0m     \u001b[0mcap\u001b[0m\u001b[0;34m.\u001b[0m\u001b[0mrelease\u001b[0m\u001b[0;34m(\u001b[0m\u001b[0;34m)\u001b[0m\u001b[0;34m\u001b[0m\u001b[0;34m\u001b[0m\u001b[0m\n\u001b[0;32m---> 55\u001b[0;31m     \u001b[0mcv2\u001b[0m\u001b[0;34m.\u001b[0m\u001b[0mdestroyAllWindows\u001b[0m\u001b[0;34m(\u001b[0m\u001b[0;34m)\u001b[0m\u001b[0;34m\u001b[0m\u001b[0;34m\u001b[0m\u001b[0m\n\u001b[0m\u001b[1;32m     56\u001b[0m \u001b[0;34m\u001b[0m\u001b[0m\n\u001b[1;32m     57\u001b[0m \u001b[0;31m# Start the live classification\u001b[0m\u001b[0;34m\u001b[0m\u001b[0;34m\u001b[0m\u001b[0;34m\u001b[0m\u001b[0m\n",
      "\u001b[0;31merror\u001b[0m: OpenCV(4.5.4) /tmp/pip-req-build-jpmv6t9_/opencv/modules/highgui/src/window.cpp:1268: error: (-2:Unspecified error) The function is not implemented. Rebuild the library with Windows, GTK+ 2.x or Cocoa support. If you are on Ubuntu or Debian, install libgtk2.0-dev and pkg-config, then re-run cmake or configure script in function 'cvDestroyAllWindows'\n"
     ]
    }
   ],
   "source": [
    "import cv2\n",
    "import tensorflow as tf\n",
    "import numpy as np\n",
    "\n",
    "# Load the trained model\n",
    "model = tf.keras.models.load_model('6claass.h5')\n",
    "\n",
    "# Define the labels for the classes\n",
    "class_names = ['class1', 'class2', 'class3', 'class4', 'class5', 'class6']\n",
    "\n",
    "# Define a function to preprocess the input image\n",
    "def preprocess_image(img):\n",
    "    # Resize the image to match the input size of the model\n",
    "    img = cv2.resize(img, (224, 224))\n",
    "    # Convert the image to a numpy array and scale the pixel values to be between 0 and 1\n",
    "    img = np.array(img) / 255.0\n",
    "    # Add an extra dimension to the image to represent the batch size\n",
    "    img = np.expand_dims(img, axis=0)\n",
    "    return img\n",
    "\n",
    "# Define a function to perform classification on a single frame\n",
    "def classify_frame(frame):\n",
    "    # Preprocess the frame\n",
    "    img = preprocess_image(frame)\n",
    "    # Perform classification on the frame\n",
    "    predictions = model.predict(img)\n",
    "    # Get the index of the class with the highest probability\n",
    "    class_index = np.argmax(predictions)\n",
    "    # Get the corresponding class label\n",
    "    class_label = class_names[class_index]\n",
    "    return class_label\n",
    "\n",
    "# Define a function to capture frames from the laptop camera and perform classification in real-time\n",
    "def live_classification():\n",
    "    # Open the laptop camera\n",
    "    cap = cv2.VideoCapture(0)\n",
    "    while True:\n",
    "        # Capture a frame from the camera\n",
    "        ret, frame = cap.read()\n",
    "        if not ret:\n",
    "            break\n",
    "        # Flip the frame horizontally to match the mirror-like view from the camera\n",
    "        frame = cv2.flip(frame, 1)\n",
    "        # Perform classification on the frame\n",
    "        class_label = classify_frame(frame)\n",
    "        # Draw the class label on the frame\n",
    "        cv2.putText(frame, class_label, (10, 30), cv2.FONT_HERSHEY_SIMPLEX, 1, (0, 255, 0), 2)\n",
    "        # Show the frame\n",
    "        cv2.imshow('Live Classification', frame)\n",
    "        # Exit the loop if the 'q' key is pressed\n",
    "        if cv2.waitKey(1) == ord('q'):\n",
    "            break\n",
    "    # Release the camera and close all windows\n",
    "    cap.release()\n",
    "    cv2.destroyAllWindows()\n",
    "\n",
    "# Start the live classification\n",
    "live_classification()"
   ]
  },
  {
   "cell_type": "markdown",
   "id": "a940897d",
   "metadata": {
    "papermill": {
     "duration": null,
     "end_time": null,
     "exception": null,
     "start_time": null,
     "status": "pending"
    },
    "tags": []
   },
   "source": [
    "# **using the second Artitecture Alexnet******"
   ]
  },
  {
   "cell_type": "markdown",
   "id": "f889ff6f",
   "metadata": {
    "papermill": {
     "duration": null,
     "end_time": null,
     "exception": null,
     "start_time": null,
     "status": "pending"
    },
    "tags": []
   },
   "source": [
    "**This code uses a for loop to split the data and labels into training and testing sets three times.\n",
    "After each iteration of the loop, the variables x_train, x_test, y_train, and y_test are updated with the new split data and labels. This loop is useful for creating multiple train-test splits for cross-validation purposes, to evaluate the performance of a machine learning model on different subsets of the data.**"
   ]
  },
  {
   "cell_type": "code",
   "execution_count": null,
   "id": "7f5b9c13",
   "metadata": {
    "execution": {
     "iopub.execute_input": "2023-04-12T19:09:50.816466Z",
     "iopub.status.busy": "2023-04-12T19:09:50.815691Z",
     "iopub.status.idle": "2023-04-12T19:09:51.784098Z",
     "shell.execute_reply": "2023-04-12T19:09:51.782730Z",
     "shell.execute_reply.started": "2023-04-12T19:09:50.816430Z"
    },
    "papermill": {
     "duration": null,
     "end_time": null,
     "exception": null,
     "start_time": null,
     "status": "pending"
    },
    "tags": []
   },
   "outputs": [],
   "source": [
    "for i in range(3): \n",
    "    x_train,x_test, y_train, y_test=train_test_split(data, label, test_size=0.2,random_state = np.random.randint(1,1000, 1)[0])"
   ]
  },
  {
   "cell_type": "code",
   "execution_count": null,
   "id": "ab782f7f",
   "metadata": {
    "execution": {
     "iopub.execute_input": "2023-04-12T19:06:02.137274Z",
     "iopub.status.busy": "2023-04-12T19:06:02.136328Z",
     "iopub.status.idle": "2023-04-12T19:06:06.197588Z",
     "shell.execute_reply": "2023-04-12T19:06:06.196782Z",
     "shell.execute_reply.started": "2023-04-12T19:06:02.137233Z"
    },
    "papermill": {
     "duration": null,
     "end_time": null,
     "exception": null,
     "start_time": null,
     "status": "pending"
    },
    "tags": []
   },
   "outputs": [],
   "source": [
    "import tensorflow as tf\n",
    "from tensorflow.keras.models import Sequential\n",
    "from tensorflow.keras.layers import Dense, Dropout, Flatten, Conv2D, MaxPooling2D\n",
    "\n",
    "# Define the input shape\n",
    "input_shape = (224, 224, 3)\n",
    "\n",
    "# Define the model\n",
    "model = Sequential([\n",
    "    Conv2D(96, (11,11), strides=(4,4), activation='relu', input_shape=input_shape),\n",
    "    MaxPooling2D(pool_size=(3,3), strides=(2,2)),\n",
    "    Conv2D(256, (5,5), strides=(1,1), activation='relu', padding=\"same\"),\n",
    "    MaxPooling2D(pool_size=(3,3), strides=(2,2)),\n",
    "    Conv2D(384, (3,3), strides=(1,1), activation='relu', padding=\"same\"),\n",
    "    Conv2D(384, (3,3), strides=(1,1), activation='relu', padding=\"same\"),\n",
    "    Conv2D(256, (3,3), strides=(1,1), activation='relu', padding=\"same\"),\n",
    "    MaxPooling2D(pool_size=(3,3), strides=(2,2)),\n",
    "    Flatten(),\n",
    "    Dense(4096, activation='relu'),\n",
    "    Dropout(0.5),\n",
    "    Dense(4096, activation='relu'),\n",
    "    Dropout(0.5),\n",
    "    Dense(6, activation='softmax')\n",
    "])\n",
    "\n",
    "# Compile the model\n",
    "model.compile(loss=tf.keras.losses.categorical_crossentropy,\n",
    "              optimizer='sgd',\n",
    "              metrics=['accuracy'])\n",
    "\n",
    "# Print the summary of the model\n",
    "model.summary()"
   ]
  },
  {
   "cell_type": "code",
   "execution_count": null,
   "id": "23a42ea2",
   "metadata": {
    "papermill": {
     "duration": null,
     "end_time": null,
     "exception": null,
     "start_time": null,
     "status": "pending"
    },
    "tags": []
   },
   "outputs": [],
   "source": []
  },
  {
   "cell_type": "markdown",
   "id": "edc4f38c",
   "metadata": {
    "papermill": {
     "duration": null,
     "end_time": null,
     "exception": null,
     "start_time": null,
     "status": "pending"
    },
    "tags": []
   },
   "source": [
    "**#when i used Adam optimizer i got accuracy =Test Accuracy: 21.49%**"
   ]
  },
  {
   "cell_type": "code",
   "execution_count": null,
   "id": "468d2717",
   "metadata": {
    "execution": {
     "iopub.execute_input": "2023-04-12T20:17:39.900037Z",
     "iopub.status.busy": "2023-04-12T20:17:39.899121Z",
     "iopub.status.idle": "2023-04-12T20:33:13.882041Z",
     "shell.execute_reply": "2023-04-12T20:33:13.880853Z",
     "shell.execute_reply.started": "2023-04-12T20:17:39.899993Z"
    },
    "papermill": {
     "duration": null,
     "end_time": null,
     "exception": null,
     "start_time": null,
     "status": "pending"
    },
    "tags": []
   },
   "outputs": [],
   "source": [
    "# Compile the model\n",
    "from tensorflow.keras.optimizers import SGD\n",
    "model.compile(optimizer=SGD(learning_rate=0.01), loss='categorical_crossentropy', metrics=['accuracy'])\n",
    "\n",
    "# Train the model\n",
    "history = model.fit(x_train, y_train, batch_size=32, epochs=50)\n",
    "#printing the train Accuracy\n",
    "print(history.history['accuracy']) \n",
    "\n",
    "# Evaluate the model\n",
    "loss, accuracy = model.evaluate(x_test, y_test)\n",
    "#printing the test Accuracy\n",
    "print(\"Test Accuracy: {:.2f}%\".format(accuracy * 100))"
   ]
  },
  {
   "cell_type": "code",
   "execution_count": null,
   "id": "84cf57c7",
   "metadata": {
    "execution": {
     "iopub.execute_input": "2023-04-12T20:33:18.351554Z",
     "iopub.status.busy": "2023-04-12T20:33:18.350828Z",
     "iopub.status.idle": "2023-04-12T20:33:23.887118Z",
     "shell.execute_reply": "2023-04-12T20:33:23.885804Z",
     "shell.execute_reply.started": "2023-04-12T20:33:18.351515Z"
    },
    "papermill": {
     "duration": null,
     "end_time": null,
     "exception": null,
     "start_time": null,
     "status": "pending"
    },
    "tags": []
   },
   "outputs": [],
   "source": [
    "from sklearn.metrics import classification_report\n",
    "\n",
    "# Make predictions on test data\n",
    "y_pred = model.predict(x_test)\n",
    "\n",
    "# Convert predicted and true labels to binary (0/1) format\n",
    "y_pred = np.argmax(y_pred, axis=1)\n",
    "y_true = np.argmax(y_test, axis=1)\n",
    "\n",
    "# Calculate precision, recall, and F1-score\n",
    "report = classification_report(y_true, y_pred)\n",
    "print(report)"
   ]
  },
  {
   "cell_type": "code",
   "execution_count": null,
   "id": "e656045d",
   "metadata": {
    "execution": {
     "iopub.execute_input": "2023-04-12T20:33:28.684268Z",
     "iopub.status.busy": "2023-04-12T20:33:28.683891Z",
     "iopub.status.idle": "2023-04-12T20:33:29.099827Z",
     "shell.execute_reply": "2023-04-12T20:33:29.098564Z",
     "shell.execute_reply.started": "2023-04-12T20:33:28.684235Z"
    },
    "papermill": {
     "duration": null,
     "end_time": null,
     "exception": null,
     "start_time": null,
     "status": "pending"
    },
    "tags": []
   },
   "outputs": [],
   "source": [
    "from keras.utils.vis_utils import plot_model\n",
    "plot_model(model, to_file='model_plot.png', show_shapes=True, show_layer_names=True)"
   ]
  },
  {
   "cell_type": "markdown",
   "id": "ca8c8caf",
   "metadata": {
    "papermill": {
     "duration": null,
     "end_time": null,
     "exception": null,
     "start_time": null,
     "status": "pending"
    },
    "tags": []
   },
   "source": [
    "# **####3RD Architecture ResNet50**"
   ]
  },
  {
   "cell_type": "code",
   "execution_count": null,
   "id": "0604b539",
   "metadata": {
    "execution": {
     "iopub.execute_input": "2023-04-12T19:15:06.700189Z",
     "iopub.status.busy": "2023-04-12T19:15:06.699514Z",
     "iopub.status.idle": "2023-04-12T19:15:08.896494Z",
     "shell.execute_reply": "2023-04-12T19:15:08.895438Z",
     "shell.execute_reply.started": "2023-04-12T19:15:06.700148Z"
    },
    "papermill": {
     "duration": null,
     "end_time": null,
     "exception": null,
     "start_time": null,
     "status": "pending"
    },
    "tags": []
   },
   "outputs": [],
   "source": [
    "from tensorflow.keras.applications import ResNet50\n",
    "from tensorflow.keras.models import Sequential\n",
    "from tensorflow.keras.layers import Dense, Flatten\n",
    "from tensorflow.keras.optimizers import Adam\n",
    "\n",
    "# Load the ResNet50 model with imagenet weights\n",
    "resnet_model = ResNet50(weights='imagenet', include_top=False, input_shape=(224, 224, 3))\n",
    "\n",
    "# Make all layers in the pre-trained model non-trainable\n",
    "for layer in resnet_model.layers:\n",
    "    layer.trainable = False\n",
    "\n",
    "# Create a new model\n",
    "model = Sequential()\n",
    "\n",
    "# Add the ResNet50 model as a layer to the new model\n",
    "model.add(resnet_model)\n",
    "\n",
    "# Add a flatten layer\n",
    "model.add(Flatten())\n",
    "\n",
    "# Add a dense layer with 256 units and relu activation\n",
    "model.add(Dense(256, activation='relu'))\n",
    "\n",
    "# Add an output layer with the number of classes and softmax activation\n",
    "model.add(Dense(6, activation='softmax'))\n",
    "\n",
    "# Compile the model with Adam optimizer and categorical_crossentropy loss\n",
    "model.compile(optimizer=Adam(lr=0.001), loss='categorical_crossentropy', metrics=['accuracy'])"
   ]
  },
  {
   "cell_type": "code",
   "execution_count": null,
   "id": "bfb446b0",
   "metadata": {
    "execution": {
     "iopub.execute_input": "2023-04-12T19:19:59.683076Z",
     "iopub.status.busy": "2023-04-12T19:19:59.681927Z",
     "iopub.status.idle": "2023-04-12T19:35:33.431655Z",
     "shell.execute_reply": "2023-04-12T19:35:33.430651Z",
     "shell.execute_reply.started": "2023-04-12T19:19:59.683035Z"
    },
    "papermill": {
     "duration": null,
     "end_time": null,
     "exception": null,
     "start_time": null,
     "status": "pending"
    },
    "tags": []
   },
   "outputs": [],
   "source": [
    "# Train the model\n",
    "history = model.fit(x_train, y_train, batch_size=32, epochs=50)\n",
    "# Print the training and validation accuracy\n",
    "train_acc = history.history['accuracy']\n",
    "val_acc = history.history['val_accuracy']\n",
    "print('Training accuracy:', train_acc)\n",
    "print('Testing accuracy:', val_acc)\n",
    "\n",
    "# Evaluate the model\n",
    "loss, accuracy = model.evaluate(x_test, y_test)\n",
    "print(\"Test Accuracy: {:.2f}%\".format(accuracy * 100))\n",
    "\n",
    "# Plot the training and validation accuracy\n",
    "plt.plot(train_acc, label='Training accuracy')\n",
    "plt.plot(val_acc, label='Testing accuracy')\n",
    "plt.legend()\n",
    "plt.show()\n"
   ]
  },
  {
   "cell_type": "code",
   "execution_count": null,
   "id": "c2200792",
   "metadata": {
    "execution": {
     "iopub.execute_input": "2023-04-12T19:35:33.435682Z",
     "iopub.status.busy": "2023-04-12T19:35:33.435142Z",
     "iopub.status.idle": "2023-04-12T19:35:35.433933Z",
     "shell.execute_reply": "2023-04-12T19:35:35.432837Z",
     "shell.execute_reply.started": "2023-04-12T19:35:33.435652Z"
    },
    "papermill": {
     "duration": null,
     "end_time": null,
     "exception": null,
     "start_time": null,
     "status": "pending"
    },
    "tags": []
   },
   "outputs": [],
   "source": [
    "from keras.utils.vis_utils import plot_model\n",
    "plot_model(resnet_model, to_file='model_plot.png', show_shapes=True, show_layer_names=True)"
   ]
  },
  {
   "cell_type": "code",
   "execution_count": null,
   "id": "ecbb2f66",
   "metadata": {
    "execution": {
     "iopub.execute_input": "2023-04-12T19:38:00.247200Z",
     "iopub.status.busy": "2023-04-12T19:38:00.246505Z",
     "iopub.status.idle": "2023-04-12T19:57:29.767647Z",
     "shell.execute_reply": "2023-04-12T19:57:29.766632Z",
     "shell.execute_reply.started": "2023-04-12T19:38:00.247150Z"
    },
    "papermill": {
     "duration": null,
     "end_time": null,
     "exception": null,
     "start_time": null,
     "status": "pending"
    },
    "tags": []
   },
   "outputs": [],
   "source": [
    "import matplotlib.pyplot as plt\n",
    "\n",
    "# Train the model\n",
    "history = model.fit(x_train, y_train, batch_size=32, epochs=50, validation_data=(x_test, y_test))\n",
    "\n",
    "# Print the training and validation accuracy\n",
    "train_acc = history.history['accuracy']\n",
    "val_acc = history.history['val_accuracy']\n",
    "print('Training accuracy:', train_acc)\n",
    "print('Testing accuracy:', val_acc)\n",
    "\n",
    "# Evaluate the model\n",
    "loss, accuracy = model.evaluate(x_test, y_test)\n",
    "print(\"Test Accuracy: {:.2f}%\".format(accuracy * 100))\n",
    "\n",
    "# Plot the training and validation accuracy\n",
    "plt.plot(train_acc, label='Training accuracy')\n",
    "plt.plot(val_acc, label='Testing accuracy')\n",
    "plt.legend()\n",
    "plt.show()"
   ]
  },
  {
   "cell_type": "code",
   "execution_count": null,
   "id": "9bff3efd",
   "metadata": {
    "execution": {
     "iopub.execute_input": "2023-04-12T20:14:40.609735Z",
     "iopub.status.busy": "2023-04-12T20:14:40.608823Z",
     "iopub.status.idle": "2023-04-12T20:14:46.227653Z",
     "shell.execute_reply": "2023-04-12T20:14:46.223810Z",
     "shell.execute_reply.started": "2023-04-12T20:14:40.609690Z"
    },
    "papermill": {
     "duration": null,
     "end_time": null,
     "exception": null,
     "start_time": null,
     "status": "pending"
    },
    "tags": []
   },
   "outputs": [],
   "source": [
    "from sklearn.metrics import confusion_matrix, plot_confusion_matrix\n",
    "import matplotlib.pyplot as plt\n",
    "\n",
    "# Get the predicted probabilities for the test set\n",
    "y_pred = model.predict(x_test)\n",
    "\n",
    "# Convert the predicted probabilities into predicted labels\n",
    "y_pred_labels = np.argmax(y_pred, axis=1)\n",
    "\n",
    "# Convert the true labels into binary form\n",
    "y_test_labels = np.argmax(y_test, axis=1)\n",
    "\n",
    "# Compute the confusion matrix\n",
    "cm = confusion_matrix(y_test_labels, y_pred_labels)\n",
    "\n",
    "# Plot the confusion matrix\n",
    "classes = ['Class 1', 'Class 2', 'Class 3', 'Class 4', 'Class 5', 'Class 6']\n",
    "plot_confusion_matrix(model, x_test, y_test_labels, display_labels=classes, cmap=plt.cm.Blues)\n",
    "\n",
    "# Show the plot\n",
    "plt.show()"
   ]
  },
  {
   "cell_type": "code",
   "execution_count": null,
   "id": "3387f692",
   "metadata": {
    "papermill": {
     "duration": null,
     "end_time": null,
     "exception": null,
     "start_time": null,
     "status": "pending"
    },
    "tags": []
   },
   "outputs": [],
   "source": []
  },
  {
   "cell_type": "code",
   "execution_count": null,
   "id": "4f13af65",
   "metadata": {
    "execution": {
     "iopub.execute_input": "2023-04-07T06:09:41.653938Z",
     "iopub.status.busy": "2023-04-07T06:09:41.653564Z",
     "iopub.status.idle": "2023-04-07T06:09:41.658775Z",
     "shell.execute_reply": "2023-04-07T06:09:41.657327Z",
     "shell.execute_reply.started": "2023-04-07T06:09:41.653906Z"
    },
    "papermill": {
     "duration": null,
     "end_time": null,
     "exception": null,
     "start_time": null,
     "status": "pending"
    },
    "tags": []
   },
   "outputs": [],
   "source": []
  },
  {
   "cell_type": "code",
   "execution_count": null,
   "id": "099faf58",
   "metadata": {
    "papermill": {
     "duration": null,
     "end_time": null,
     "exception": null,
     "start_time": null,
     "status": "pending"
    },
    "tags": []
   },
   "outputs": [],
   "source": []
  },
  {
   "cell_type": "code",
   "execution_count": null,
   "id": "f4789ad5",
   "metadata": {
    "execution": {
     "iopub.execute_input": "2023-04-07T06:09:43.134654Z",
     "iopub.status.busy": "2023-04-07T06:09:43.133625Z",
     "iopub.status.idle": "2023-04-07T06:09:43.142498Z",
     "shell.execute_reply": "2023-04-07T06:09:43.141456Z",
     "shell.execute_reply.started": "2023-04-07T06:09:43.134594Z"
    },
    "papermill": {
     "duration": null,
     "end_time": null,
     "exception": null,
     "start_time": null,
     "status": "pending"
    },
    "tags": []
   },
   "outputs": [],
   "source": []
  },
  {
   "cell_type": "code",
   "execution_count": null,
   "id": "eab4b8a7",
   "metadata": {
    "execution": {
     "iopub.execute_input": "2023-04-07T06:09:44.254064Z",
     "iopub.status.busy": "2023-04-07T06:09:44.253688Z",
     "iopub.status.idle": "2023-04-07T06:09:44.639295Z",
     "shell.execute_reply": "2023-04-07T06:09:44.638054Z",
     "shell.execute_reply.started": "2023-04-07T06:09:44.254014Z"
    },
    "papermill": {
     "duration": null,
     "end_time": null,
     "exception": null,
     "start_time": null,
     "status": "pending"
    },
    "tags": []
   },
   "outputs": [],
   "source": []
  },
  {
   "cell_type": "code",
   "execution_count": null,
   "id": "a576772d",
   "metadata": {
    "execution": {
     "iopub.execute_input": "2023-04-07T06:09:55.324517Z",
     "iopub.status.busy": "2023-04-07T06:09:55.323809Z",
     "iopub.status.idle": "2023-04-07T06:09:55.710685Z",
     "shell.execute_reply": "2023-04-07T06:09:55.709664Z",
     "shell.execute_reply.started": "2023-04-07T06:09:55.324477Z"
    },
    "papermill": {
     "duration": null,
     "end_time": null,
     "exception": null,
     "start_time": null,
     "status": "pending"
    },
    "tags": []
   },
   "outputs": [],
   "source": [
    "train_accuracy = history.history['accuracy']\n",
    "#val_accuracy = history.history['val_accuracy']\n",
    "train_loss = history.history['loss']\n",
    "#val_loss = history.history['val_loss']\n",
    "\n",
    "epochs = range(len(train_accuracy))\n",
    "plt.figure(figsize=(12,4))\n",
    "# Plotting the accuracy\n",
    "plt.subplot(1,2,1)\n",
    "plt.plot(epochs, train_accuracy, 'b', label='Training accuracy')\n",
    "\n",
    "plt.title('accuracy')\n",
    "plt.xlabel('Epoch')\n",
    "plt.ylabel('Accuracy')\n",
    "plt.legend(['train', 'val'], loc='lower right')\n",
    "\n",
    "# Plotting the loss\n",
    "plt.subplot(1,2,2)\n",
    "plt.plot(epochs, train_loss, 'b', label='Training loss')\n",
    "\n",
    "plt.title('Loss ')\n",
    "plt.xlabel('Epoch')\n",
    "plt.ylabel('Loss')\n",
    "plt.legend(['train', 'val'], loc='upper right')"
   ]
  },
  {
   "cell_type": "code",
   "execution_count": null,
   "id": "01abef8f",
   "metadata": {
    "execution": {
     "iopub.execute_input": "2023-03-14T19:45:08.446037Z",
     "iopub.status.busy": "2023-03-14T19:45:08.444697Z",
     "iopub.status.idle": "2023-03-14T19:45:08.454302Z",
     "shell.execute_reply": "2023-03-14T19:45:08.453232Z",
     "shell.execute_reply.started": "2023-03-14T19:45:08.445991Z"
    },
    "papermill": {
     "duration": null,
     "end_time": null,
     "exception": null,
     "start_time": null,
     "status": "pending"
    },
    "tags": []
   },
   "outputs": [],
   "source": []
  },
  {
   "cell_type": "code",
   "execution_count": null,
   "id": "52835a8a",
   "metadata": {
    "execution": {
     "iopub.execute_input": "2023-03-14T19:45:08.836666Z",
     "iopub.status.busy": "2023-03-14T19:45:08.83591Z",
     "iopub.status.idle": "2023-03-14T19:45:08.851582Z",
     "shell.execute_reply": "2023-03-14T19:45:08.850339Z",
     "shell.execute_reply.started": "2023-03-14T19:45:08.836612Z"
    },
    "papermill": {
     "duration": null,
     "end_time": null,
     "exception": null,
     "start_time": null,
     "status": "pending"
    },
    "tags": []
   },
   "outputs": [],
   "source": []
  },
  {
   "cell_type": "code",
   "execution_count": null,
   "id": "04fc8d09",
   "metadata": {
    "execution": {
     "iopub.execute_input": "2023-03-14T19:45:11.22408Z",
     "iopub.status.busy": "2023-03-14T19:45:11.22302Z",
     "iopub.status.idle": "2023-03-14T19:45:11.230894Z",
     "shell.execute_reply": "2023-03-14T19:45:11.22963Z",
     "shell.execute_reply.started": "2023-03-14T19:45:11.224006Z"
    },
    "papermill": {
     "duration": null,
     "end_time": null,
     "exception": null,
     "start_time": null,
     "status": "pending"
    },
    "tags": []
   },
   "outputs": [],
   "source": []
  }
 ],
 "metadata": {
  "kernelspec": {
   "display_name": "Python 3",
   "language": "python",
   "name": "python3"
  },
  "language_info": {
   "codemirror_mode": {
    "name": "ipython",
    "version": 3
   },
   "file_extension": ".py",
   "mimetype": "text/x-python",
   "name": "python",
   "nbconvert_exporter": "python",
   "pygments_lexer": "ipython3",
   "version": "3.7.12"
  },
  "papermill": {
   "default_parameters": {},
   "duration": 717.466261,
   "end_time": "2023-04-16T17:36:22.774362",
   "environment_variables": {},
   "exception": true,
   "input_path": "__notebook__.ipynb",
   "output_path": "__notebook__.ipynb",
   "parameters": {},
   "start_time": "2023-04-16T17:24:25.308101",
   "version": "2.4.0"
  }
 },
 "nbformat": 4,
 "nbformat_minor": 5
}
